{
 "cells": [
  {
   "cell_type": "code",
   "execution_count": 1,
   "metadata": {},
   "outputs": [],
   "source": [
    "import pandas as pd"
   ]
  },
  {
   "cell_type": "code",
   "execution_count": 2,
   "metadata": {
    "scrolled": true
   },
   "outputs": [
    {
     "ename": "FileNotFoundError",
     "evalue": "[Errno 2] No such file or directory: 'd:\\\\data2\\\\금융보안원\\\\금보mz1.xlsx'",
     "output_type": "error",
     "traceback": [
      "\u001b[1;31m---------------------------------------------------------------------------\u001b[0m",
      "\u001b[1;31mFileNotFoundError\u001b[0m                         Traceback (most recent call last)",
      "\u001b[1;32m<ipython-input-2-c71fa53e9479>\u001b[0m in \u001b[0;36m<module>\u001b[1;34m\u001b[0m\n\u001b[1;32m----> 1\u001b[1;33m \u001b[0mdf\u001b[0m\u001b[1;33m=\u001b[0m\u001b[0mpd\u001b[0m\u001b[1;33m.\u001b[0m\u001b[0mread_excel\u001b[0m\u001b[1;33m(\u001b[0m\u001b[1;34m'd:\\\\data2\\\\금융보안원\\\\금보mz1.xlsx'\u001b[0m\u001b[1;33m)\u001b[0m\u001b[1;33m\u001b[0m\u001b[1;33m\u001b[0m\u001b[0m\n\u001b[0m\u001b[0;32m      2\u001b[0m \u001b[1;33m\u001b[0m\u001b[0m\n\u001b[0;32m      3\u001b[0m \u001b[0mdf\u001b[0m\u001b[1;33m\u001b[0m\u001b[1;33m\u001b[0m\u001b[0m\n",
      "\u001b[1;32m~\\anaconda3\\lib\\site-packages\\pandas\\util\\_decorators.py\u001b[0m in \u001b[0;36mwrapper\u001b[1;34m(*args, **kwargs)\u001b[0m\n\u001b[0;32m    297\u001b[0m                 )\n\u001b[0;32m    298\u001b[0m                 \u001b[0mwarnings\u001b[0m\u001b[1;33m.\u001b[0m\u001b[0mwarn\u001b[0m\u001b[1;33m(\u001b[0m\u001b[0mmsg\u001b[0m\u001b[1;33m,\u001b[0m \u001b[0mFutureWarning\u001b[0m\u001b[1;33m,\u001b[0m \u001b[0mstacklevel\u001b[0m\u001b[1;33m=\u001b[0m\u001b[0mstacklevel\u001b[0m\u001b[1;33m)\u001b[0m\u001b[1;33m\u001b[0m\u001b[1;33m\u001b[0m\u001b[0m\n\u001b[1;32m--> 299\u001b[1;33m             \u001b[1;32mreturn\u001b[0m \u001b[0mfunc\u001b[0m\u001b[1;33m(\u001b[0m\u001b[1;33m*\u001b[0m\u001b[0margs\u001b[0m\u001b[1;33m,\u001b[0m \u001b[1;33m**\u001b[0m\u001b[0mkwargs\u001b[0m\u001b[1;33m)\u001b[0m\u001b[1;33m\u001b[0m\u001b[1;33m\u001b[0m\u001b[0m\n\u001b[0m\u001b[0;32m    300\u001b[0m \u001b[1;33m\u001b[0m\u001b[0m\n\u001b[0;32m    301\u001b[0m         \u001b[1;32mreturn\u001b[0m \u001b[0mwrapper\u001b[0m\u001b[1;33m\u001b[0m\u001b[1;33m\u001b[0m\u001b[0m\n",
      "\u001b[1;32m~\\anaconda3\\lib\\site-packages\\pandas\\io\\excel\\_base.py\u001b[0m in \u001b[0;36mread_excel\u001b[1;34m(io, sheet_name, header, names, index_col, usecols, squeeze, dtype, engine, converters, true_values, false_values, skiprows, nrows, na_values, keep_default_na, na_filter, verbose, parse_dates, date_parser, thousands, comment, skipfooter, convert_float, mangle_dupe_cols, storage_options)\u001b[0m\n\u001b[0;32m    334\u001b[0m     \u001b[1;32mif\u001b[0m \u001b[1;32mnot\u001b[0m \u001b[0misinstance\u001b[0m\u001b[1;33m(\u001b[0m\u001b[0mio\u001b[0m\u001b[1;33m,\u001b[0m \u001b[0mExcelFile\u001b[0m\u001b[1;33m)\u001b[0m\u001b[1;33m:\u001b[0m\u001b[1;33m\u001b[0m\u001b[1;33m\u001b[0m\u001b[0m\n\u001b[0;32m    335\u001b[0m         \u001b[0mshould_close\u001b[0m \u001b[1;33m=\u001b[0m \u001b[1;32mTrue\u001b[0m\u001b[1;33m\u001b[0m\u001b[1;33m\u001b[0m\u001b[0m\n\u001b[1;32m--> 336\u001b[1;33m         \u001b[0mio\u001b[0m \u001b[1;33m=\u001b[0m \u001b[0mExcelFile\u001b[0m\u001b[1;33m(\u001b[0m\u001b[0mio\u001b[0m\u001b[1;33m,\u001b[0m \u001b[0mstorage_options\u001b[0m\u001b[1;33m=\u001b[0m\u001b[0mstorage_options\u001b[0m\u001b[1;33m,\u001b[0m \u001b[0mengine\u001b[0m\u001b[1;33m=\u001b[0m\u001b[0mengine\u001b[0m\u001b[1;33m)\u001b[0m\u001b[1;33m\u001b[0m\u001b[1;33m\u001b[0m\u001b[0m\n\u001b[0m\u001b[0;32m    337\u001b[0m     \u001b[1;32melif\u001b[0m \u001b[0mengine\u001b[0m \u001b[1;32mand\u001b[0m \u001b[0mengine\u001b[0m \u001b[1;33m!=\u001b[0m \u001b[0mio\u001b[0m\u001b[1;33m.\u001b[0m\u001b[0mengine\u001b[0m\u001b[1;33m:\u001b[0m\u001b[1;33m\u001b[0m\u001b[1;33m\u001b[0m\u001b[0m\n\u001b[0;32m    338\u001b[0m         raise ValueError(\n",
      "\u001b[1;32m~\\anaconda3\\lib\\site-packages\\pandas\\io\\excel\\_base.py\u001b[0m in \u001b[0;36m__init__\u001b[1;34m(self, path_or_buffer, engine, storage_options)\u001b[0m\n\u001b[0;32m   1069\u001b[0m                 \u001b[0mext\u001b[0m \u001b[1;33m=\u001b[0m \u001b[1;34m\"xls\"\u001b[0m\u001b[1;33m\u001b[0m\u001b[1;33m\u001b[0m\u001b[0m\n\u001b[0;32m   1070\u001b[0m             \u001b[1;32melse\u001b[0m\u001b[1;33m:\u001b[0m\u001b[1;33m\u001b[0m\u001b[1;33m\u001b[0m\u001b[0m\n\u001b[1;32m-> 1071\u001b[1;33m                 ext = inspect_excel_format(\n\u001b[0m\u001b[0;32m   1072\u001b[0m                     \u001b[0mcontent\u001b[0m\u001b[1;33m=\u001b[0m\u001b[0mpath_or_buffer\u001b[0m\u001b[1;33m,\u001b[0m \u001b[0mstorage_options\u001b[0m\u001b[1;33m=\u001b[0m\u001b[0mstorage_options\u001b[0m\u001b[1;33m\u001b[0m\u001b[1;33m\u001b[0m\u001b[0m\n\u001b[0;32m   1073\u001b[0m                 )\n",
      "\u001b[1;32m~\\anaconda3\\lib\\site-packages\\pandas\\io\\excel\\_base.py\u001b[0m in \u001b[0;36minspect_excel_format\u001b[1;34m(path, content, storage_options)\u001b[0m\n\u001b[0;32m    947\u001b[0m     \u001b[1;32massert\u001b[0m \u001b[0mcontent_or_path\u001b[0m \u001b[1;32mis\u001b[0m \u001b[1;32mnot\u001b[0m \u001b[1;32mNone\u001b[0m\u001b[1;33m\u001b[0m\u001b[1;33m\u001b[0m\u001b[0m\n\u001b[0;32m    948\u001b[0m \u001b[1;33m\u001b[0m\u001b[0m\n\u001b[1;32m--> 949\u001b[1;33m     with get_handle(\n\u001b[0m\u001b[0;32m    950\u001b[0m         \u001b[0mcontent_or_path\u001b[0m\u001b[1;33m,\u001b[0m \u001b[1;34m\"rb\"\u001b[0m\u001b[1;33m,\u001b[0m \u001b[0mstorage_options\u001b[0m\u001b[1;33m=\u001b[0m\u001b[0mstorage_options\u001b[0m\u001b[1;33m,\u001b[0m \u001b[0mis_text\u001b[0m\u001b[1;33m=\u001b[0m\u001b[1;32mFalse\u001b[0m\u001b[1;33m\u001b[0m\u001b[1;33m\u001b[0m\u001b[0m\n\u001b[0;32m    951\u001b[0m     ) as handle:\n",
      "\u001b[1;32m~\\anaconda3\\lib\\site-packages\\pandas\\io\\common.py\u001b[0m in \u001b[0;36mget_handle\u001b[1;34m(path_or_buf, mode, encoding, compression, memory_map, is_text, errors, storage_options)\u001b[0m\n\u001b[0;32m    649\u001b[0m         \u001b[1;32melse\u001b[0m\u001b[1;33m:\u001b[0m\u001b[1;33m\u001b[0m\u001b[1;33m\u001b[0m\u001b[0m\n\u001b[0;32m    650\u001b[0m             \u001b[1;31m# Binary mode\u001b[0m\u001b[1;33m\u001b[0m\u001b[1;33m\u001b[0m\u001b[1;33m\u001b[0m\u001b[0m\n\u001b[1;32m--> 651\u001b[1;33m             \u001b[0mhandle\u001b[0m \u001b[1;33m=\u001b[0m \u001b[0mopen\u001b[0m\u001b[1;33m(\u001b[0m\u001b[0mhandle\u001b[0m\u001b[1;33m,\u001b[0m \u001b[0mioargs\u001b[0m\u001b[1;33m.\u001b[0m\u001b[0mmode\u001b[0m\u001b[1;33m)\u001b[0m\u001b[1;33m\u001b[0m\u001b[1;33m\u001b[0m\u001b[0m\n\u001b[0m\u001b[0;32m    652\u001b[0m         \u001b[0mhandles\u001b[0m\u001b[1;33m.\u001b[0m\u001b[0mappend\u001b[0m\u001b[1;33m(\u001b[0m\u001b[0mhandle\u001b[0m\u001b[1;33m)\u001b[0m\u001b[1;33m\u001b[0m\u001b[1;33m\u001b[0m\u001b[0m\n\u001b[0;32m    653\u001b[0m \u001b[1;33m\u001b[0m\u001b[0m\n",
      "\u001b[1;31mFileNotFoundError\u001b[0m: [Errno 2] No such file or directory: 'd:\\\\data2\\\\금융보안원\\\\금보mz1.xlsx'"
     ]
    }
   ],
   "source": [
    "df=pd.read_excel('d:\\\\data2\\\\금융보안원\\\\금보mz1.xlsx')\n",
    "\n",
    "df"
   ]
  },
  {
   "cell_type": "code",
   "execution_count": null,
   "metadata": {},
   "outputs": [],
   "source": [
    "df['건당매출금액']=df['매출금액']//df['매출건수']"
   ]
  },
  {
   "cell_type": "code",
   "execution_count": null,
   "metadata": {},
   "outputs": [],
   "source": [
    "df"
   ]
  },
  {
   "cell_type": "code",
   "execution_count": null,
   "metadata": {},
   "outputs": [],
   "source": [
    "df.가구생애주기.unique()"
   ]
  },
  {
   "cell_type": "code",
   "execution_count": null,
   "metadata": {
    "scrolled": true
   },
   "outputs": [],
   "source": [
    "df2=df[['기준년월','품목대분류명','성별','연령','가구생애주기','매출금액','매출건수','건당매출금액']]\n",
    "\n",
    "\n",
    "df2"
   ]
  },
  {
   "cell_type": "markdown",
   "metadata": {},
   "source": [
    "품목 대분류 또는  중분류를 정답컬럼으로 잡고 분류 모델을 작성?"
   ]
  },
  {
   "cell_type": "code",
   "execution_count": null,
   "metadata": {},
   "outputs": [],
   "source": [
    "df2.품목대분류명.unique()"
   ]
  },
  {
   "cell_type": "code",
   "execution_count": null,
   "metadata": {
    "scrolled": true
   },
   "outputs": [],
   "source": [
    "from datetime import datetime\n",
    "\n",
    "\n",
    "df2['기준년월']=pd.to_datetime(df2['기준년월'],format='%Y%m').dt.to_period(freq='M')\n",
    "df2"
   ]
  },
  {
   "cell_type": "code",
   "execution_count": null,
   "metadata": {},
   "outputs": [],
   "source": [
    "df20=df2.loc[df2['연령']=='20대',]\n",
    "df30=df2.loc[df2['연령']=='30대',]"
   ]
  },
  {
   "cell_type": "code",
   "execution_count": null,
   "metadata": {
    "scrolled": true
   },
   "outputs": [],
   "source": [
    "#가구생애주기\n",
    "marry=df2.loc[df2['가구생애주기']=='신혼영유아가구',]\n",
    "solo=df2.loc[df2['가구생애주기']=='1인가구',]\n",
    "child=df2.loc[df2['가구생애주기']=='초중고자녀가구',]\n",
    "\n",
    "marry\n",
    "solo\n",
    "child"
   ]
  },
  {
   "cell_type": "code",
   "execution_count": null,
   "metadata": {},
   "outputs": [],
   "source": [
    "#성별+가구생애주기\n",
    "marry_m=df2.loc[(df2['가구생애주기']=='신혼영유아가구')&(df2['성별']=='남성'),]\n",
    "marry_f=df2.loc[(df2['가구생애주기']=='신혼영유아가구')&(df2['성별']=='여성'),]\n",
    "\n",
    "solo_m=df2.loc[(df2['가구생애주기']=='1인가구')&(df2['성별']=='남성'),]\n",
    "solo_f=df2.loc[(df2['가구생애주기']=='1인가구')&(df2['성별']=='여성'),]\n",
    "\n",
    "child_m=df2.loc[(df2['가구생애주기']=='초중고자녀가구')&(df2['성별']=='남성'),]\n",
    "child_f=df2.loc[(df2['가구생애주기']=='초중고자녀가구')&(df2['성별']=='여성'),]"
   ]
  },
  {
   "cell_type": "code",
   "execution_count": null,
   "metadata": {},
   "outputs": [],
   "source": [
    "#성별+가구생애주기\n",
    "marry_20m=df20.loc[(df2['가구생애주기']=='신혼영유아가구')&(df2['성별']=='남성'),]#신혼 20대 남성\n",
    "marry_20f=df20.loc[(df2['가구생애주기']=='신혼영유아가구')&(df2['성별']=='여성'),]#신혼 20대 여성\n",
    "marry_30m=df30.loc[(df2['가구생애주기']=='신혼영유아가구')&(df2['성별']=='남성'),]#신혼 30대 남성\n",
    "marry_30f=df30.loc[(df2['가구생애주기']=='신혼영유아가구')&(df2['성별']=='여성'),]#신혼 30대 여성\n",
    "\n",
    "\n",
    "solo_20m=df20.loc[(df2['가구생애주기']=='1인가구')&(df2['성별']=='남성'),] # 1인 20대 남성\n",
    "solo_20f=df20.loc[(df2['가구생애주기']=='1인가구')&(df2['성별']=='여성'),] # 1인 20대 여성\n",
    "solo_30m=df30.loc[(df2['가구생애주기']=='1인가구')&(df2['성별']=='남성'),] # 1인 30대 남성\n",
    "solo_30f=df30.loc[(df2['가구생애주기']=='1인가구')&(df2['성별']=='여성'),] # 1인 30대 여성\n",
    "\n",
    "child_20m=df20.loc[(df2['가구생애주기']=='초중고자녀가구')&(df2['성별']=='남성'),] #초중고 자녀 20대 남성\n",
    "child_20f=df20.loc[(df2['가구생애주기']=='초중고자녀가구')&(df2['성별']=='여성'),] #초중고 자녀 20대 여성\n",
    "child_30m=df30.loc[(df2['가구생애주기']=='초중고자녀가구')&(df2['성별']=='남성'),] #초중고 자녀 30대 남성\n",
    "child_30f=df30.loc[(df2['가구생애주기']=='초중고자녀가구')&(df2['성별']=='여성'),] #초중고 자녀 20대 여성\n"
   ]
  },
  {
   "cell_type": "code",
   "execution_count": null,
   "metadata": {
    "scrolled": true
   },
   "outputs": [],
   "source": [
    "m2m=marry_20m.groupby('품목대분류명')['매출건수'].sum().sort_values(ascending=False)\n",
    "m2f=marry_20f.groupby('품목대분류명')['매출건수'].sum().sort_values(ascending=False)\n",
    "m3m=marry_30m.groupby('품목대분류명')['매출건수'].sum().sort_values(ascending=False)\n",
    "m3f=marry_30f.groupby('품목대분류명')['매출건수'].sum().sort_values(ascending=False)\n",
    "\n",
    "s2m=solo_20m.groupby('품목대분류명')['매출건수'].sum().sort_values(ascending=False)\n",
    "s2f=solo_20f.groupby('품목대분류명')['매출건수'].sum().sort_values(ascending=False)\n",
    "s3m=solo_30m.groupby('품목대분류명')['매출건수'].sum().sort_values(ascending=False)\n",
    "s3f=solo_30f.groupby('품목대분류명')['매출건수'].sum().sort_values(ascending=False)\n",
    "\n",
    "#c2m=child_20m.groupby('품목대분류명')['매출건수'].sum().sort_values(ascending=False) #없음\n",
    "#c2f=child_20f.groupby('품목대분류명')['매출건수'].sum().sort_values(ascending=False) #없음\n",
    "c3m=child_30m.groupby('품목대분류명')['매출건수'].sum().sort_values(ascending=False)\n",
    "c3f=child_30f.groupby('품목대분류명')['매출건수'].sum().sort_values(ascending=False)\n",
    "\n",
    "\n",
    "print(c3m)\n",
    "print(c3f)"
   ]
  },
  {
   "cell_type": "code",
   "execution_count": null,
   "metadata": {
    "scrolled": false
   },
   "outputs": [],
   "source": [
    "import matplotlib.pyplot as plt\n",
    "import matplotlib.font_manager as fonm\n",
    "import seaborn as sns\n",
    "\n",
    "fig=plt.figure(figsize=(10,7))\n",
    "\n",
    "labels=m2m.index\n",
    "\n",
    "plt.rcParams['font.family']='Malgun Gothic'\n",
    "\n",
    "colors=sns.color_palette('hls',len(x))\n",
    "\n",
    "plt.pie(m2m,labels=labels,autopct='%.1f%%',colors=colors)\n",
    "\n",
    "plt.title('신혼 20대 남성 매출건수')"
   ]
  },
  {
   "cell_type": "code",
   "execution_count": null,
   "metadata": {
    "scrolled": true
   },
   "outputs": [],
   "source": [
    "fig=plt.figure(figsize=(10,7))\n",
    "\n",
    "labels=m2f.index\n",
    "plt.pie(m2f,labels=labels,autopct='%.1f%%',colors=colors)\n",
    "plt.title('신혼 20대 여성 매출건수')\n",
    "\n",
    "plt.show()"
   ]
  },
  {
   "cell_type": "code",
   "execution_count": null,
   "metadata": {
    "scrolled": true
   },
   "outputs": [],
   "source": [
    "fig=plt.figure(figsize=(10,7))\n",
    "\n",
    "labels=m3m.index\n",
    "plt.pie(m3m,labels=labels,autopct='%.1f%%',colors=colors)\n",
    "plt.title('신혼 30대 남성 매출건수')\n",
    "plt.show()"
   ]
  },
  {
   "cell_type": "code",
   "execution_count": null,
   "metadata": {
    "scrolled": true
   },
   "outputs": [],
   "source": [
    "fig=plt.figure(figsize=(10,7))\n",
    "\n",
    "labels=m3f.index\n",
    "plt.pie(m3f,labels=labels,autopct='%.1f%%',colors=colors)\n",
    "plt.title('신혼 30대 여성 매출건수')\n",
    "plt.show()"
   ]
  },
  {
   "cell_type": "code",
   "execution_count": null,
   "metadata": {
    "scrolled": true
   },
   "outputs": [],
   "source": [
    "fig=plt.figure(figsize=(10,7))\n",
    "\n",
    "labels=s2m.index\n",
    "plt.pie(s2m,labels=labels,autopct='%.1f%%',colors=colors)\n",
    "plt.title('1인가구 20대 남성 매출건수')\n",
    "plt.show()"
   ]
  },
  {
   "cell_type": "code",
   "execution_count": null,
   "metadata": {},
   "outputs": [],
   "source": [
    "fig=plt.figure(figsize=(10,7))\n",
    "\n",
    "labels=s2f.index\n",
    "plt.pie(s2f,labels=labels,autopct='%.1f%%',colors=colors)\n",
    "plt.title('1인가구 20대 여성 매출건수')\n",
    "plt.show()"
   ]
  },
  {
   "cell_type": "code",
   "execution_count": null,
   "metadata": {},
   "outputs": [],
   "source": [
    "fig=plt.figure(figsize=(10,7))\n",
    "\n",
    "labels=s3m.index\n",
    "plt.pie(s3m,labels=labels,autopct='%.1f%%',colors=colors)\n",
    "plt.title('1인가구 30대 남성 매출건수')\n",
    "plt.show()"
   ]
  },
  {
   "cell_type": "code",
   "execution_count": null,
   "metadata": {
    "scrolled": true
   },
   "outputs": [],
   "source": [
    "fig=plt.figure(figsize=(10,7))\n",
    "\n",
    "labels=s3f.index\n",
    "plt.pie(s3f,labels=labels,autopct='%.1f%%',colors=colors)\n",
    "plt.title('1인가구 30대 여성 매출건수')\n",
    "plt.show()"
   ]
  },
  {
   "cell_type": "code",
   "execution_count": null,
   "metadata": {
    "scrolled": true
   },
   "outputs": [],
   "source": [
    "fig=plt.figure(figsize=(10,7))\n",
    "\n",
    "labels=c3m.index\n",
    "plt.pie(c3m,labels=labels,autopct='%.1f%%',colors=colors)\n",
    "plt.title('초중생 자녀 30대 남성 매출건수')\n",
    "plt.show()"
   ]
  },
  {
   "cell_type": "code",
   "execution_count": null,
   "metadata": {
    "scrolled": true
   },
   "outputs": [],
   "source": [
    "fig=plt.figure(figsize=(10,7))\n",
    "\n",
    "labels=c3f.index\n",
    "plt.pie(c3f,labels=labels,autopct='%.1f%%',colors=colors)\n",
    "plt.title('초중생 자녀 30대 여성 매출건수')\n",
    "plt.show()"
   ]
  },
  {
   "cell_type": "code",
   "execution_count": null,
   "metadata": {},
   "outputs": [],
   "source": [
    "dm2m=marry_20m.groupby('기준년월')['건당매출금액'].sum().sort_values(ascending=False)\n",
    "dm2f=marry_20f.groupby('기준년월')['건당매출금액'].sum().sort_values(ascending=False)\n",
    "dm3m=marry_30m.groupby('기준년월')['건당매출금액'].sum().sort_values(ascending=False)\n",
    "dm3f=marry_30f.groupby('기준년월')['건당매출금액'].sum().sort_values(ascending=False)\n",
    "\n",
    "ds2m=solo_20m.groupby('기준년월')['건당매출금액'].sum().sort_values(ascending=False)\n",
    "ds2f=solo_20f.groupby('기준년월')['건당매출금액'].sum().sort_values(ascending=False)\n",
    "ds3m=solo_30m.groupby('기준년월')['건당매출금액'].sum().sort_values(ascending=False)\n",
    "ds3f=solo_30f.groupby('기준년월')['건당매출금액'].sum().sort_values(ascending=False)\n",
    "\n",
    "\n",
    "dc3m=child_30m.groupby('기준년월')['건당매출금액'].sum().sort_values(ascending=False)\n",
    "dc3f=child_30f.groupby('기준년월')['건당매출금액'].sum().sort_values(ascending=False)\n",
    "\n",
    "\n",
    "dm3f\n"
   ]
  },
  {
   "cell_type": "code",
   "execution_count": null,
   "metadata": {
    "scrolled": true
   },
   "outputs": [],
   "source": [
    "import numpy as np\n",
    "fig=plt.figure(figsize=(8,7))\n",
    "ax=fig.add_subplot()\n",
    "\n",
    "\n",
    "x=np.arange(5)\n",
    "\n",
    "\n",
    "y1=dm2m\n",
    "y2=dm2f\n",
    "y3=dm3m\n",
    "y4=dm3f\n",
    "\n",
    "ax.plot(x,y1,label='20대 신혼 남성')\n",
    "ax.plot(x,y2,label='20대 신혼 여성')\n",
    "ax.plot(x,y3,label='30대 신혼 남성')\n",
    "ax.plot(x,y4,label='30대 신혼 여성')\n",
    "xlab=marry_20m['기준년월'].unique()\n",
    "\n",
    "\n",
    "plt.xticks(x,xlab)\n",
    "plt.ylabel('건당매출액합계')\n",
    "plt.xlabel('날짜')\n",
    "plt.title('연령별 신혼 건당매출')\n",
    "\n",
    "ax.legend()\n",
    "\n",
    "plt.show()"
   ]
  },
  {
   "cell_type": "code",
   "execution_count": null,
   "metadata": {
    "scrolled": true
   },
   "outputs": [],
   "source": [
    "import numpy as np\n",
    "fig=plt.figure(figsize=(8,7))\n",
    "ax=fig.add_subplot()\n",
    "\n",
    "\n",
    "x=np.arange(5)\n",
    "\n",
    "\n",
    "y1=ds2m\n",
    "y2=ds2f\n",
    "y3=ds3m\n",
    "y4=ds3f\n",
    "\n",
    "ax.plot(x,y1,label='20대 1인가구 남성')\n",
    "ax.plot(x,y2,label='20대 1인가구 여성')\n",
    "ax.plot(x,y3,label='30대 1인가구 남성')\n",
    "ax.plot(x,y4,label='30대 1인가구 여성')\n",
    "xlab=marry_20m['기준년월'].unique()\n",
    "\n",
    "\n",
    "plt.xticks(x,xlab)\n",
    "plt.ylabel('건당매출액합계')\n",
    "plt.xlabel('날짜')\n",
    "plt.title('연령별 1인가구 건당매출')\n",
    "\n",
    "ax.legend()\n",
    "\n",
    "plt.show()"
   ]
  },
  {
   "cell_type": "code",
   "execution_count": null,
   "metadata": {
    "scrolled": true
   },
   "outputs": [],
   "source": [
    "import numpy as np\n",
    "fig=plt.figure(figsize=(8,7))\n",
    "ax=fig.add_subplot()\n",
    "\n",
    "\n",
    "x=np.arange(5)\n",
    "\n",
    "\n",
    "\n",
    "y3=dc3m\n",
    "y4=dc3f\n",
    "\n",
    "\n",
    "ax.plot(x,y3,label='30대 초중자녀 남성')\n",
    "ax.plot(x,y4,label='30대 초중자녀 여성')\n",
    "xlab=marry_20m['기준년월'].unique()\n",
    "\n",
    "\n",
    "plt.xticks(x,xlab)\n",
    "plt.ylabel('건당매출액합계')\n",
    "plt.xlabel('날짜')\n",
    "plt.title('연령별 초중자녀가구 건당매출')\n",
    "\n",
    "ax.legend()\n",
    "\n",
    "plt.show()"
   ]
  },
  {
   "cell_type": "code",
   "execution_count": null,
   "metadata": {},
   "outputs": [],
   "source": []
  },
  {
   "cell_type": "code",
   "execution_count": null,
   "metadata": {},
   "outputs": [],
   "source": []
  },
  {
   "cell_type": "code",
   "execution_count": null,
   "metadata": {},
   "outputs": [],
   "source": []
  },
  {
   "cell_type": "code",
   "execution_count": null,
   "metadata": {},
   "outputs": [],
   "source": []
  },
  {
   "cell_type": "code",
   "execution_count": null,
   "metadata": {},
   "outputs": [],
   "source": [
    "a=df2.loc[df2['품목대분류명']=='e상품/서비스',]\n",
    "\n"
   ]
  }
 ],
 "metadata": {
  "kernelspec": {
   "display_name": "Python 3",
   "language": "python",
   "name": "python3"
  },
  "language_info": {
   "codemirror_mode": {
    "name": "ipython",
    "version": 3
   },
   "file_extension": ".py",
   "mimetype": "text/x-python",
   "name": "python",
   "nbconvert_exporter": "python",
   "pygments_lexer": "ipython3",
   "version": "3.8.3"
  }
 },
 "nbformat": 4,
 "nbformat_minor": 4
}
