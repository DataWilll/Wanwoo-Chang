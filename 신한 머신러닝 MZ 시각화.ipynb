{
 "cells": [
  {
   "cell_type": "code",
   "execution_count": 2,
   "metadata": {},
   "outputs": [],
   "source": [
    "import pandas as pd\n",
    "import numpy as np\n",
    "import seaborn as sns\n",
    "import matplotlib.pyplot as plt\n",
    "import matplotlib.font_manager as fnm\n",
    "\n",
    "\n",
    "from sklearn.cluster import KMeans\n",
    "from sklearn.preprocessing import StandardScaler\n",
    "from sklearn.preprocessing import MinMaxScaler\n",
    "from sklearn.decomposition import PCA\n",
    "\n",
    "\n",
    "from sklearn.model_selection import train_test_split\n",
    "from sklearn.tree import DecisionTreeClassifier\n",
    "from sklearn.preprocessing import LabelEncoder\n",
    "from sklearn.metrics import accuracy_score\n",
    "from sklearn import linear_model\n",
    "from sklearn.ensemble import RandomForestClassifier\n",
    "\n",
    "\n",
    "\n",
    "plt.rcParams['font.family']='Malgun Gothic'\n",
    "\n"
   ]
  },
  {
   "cell_type": "code",
   "execution_count": 3,
   "metadata": {},
   "outputs": [],
   "source": [
    "fd1=pd.read_excel('d:\\\\data2\\\\신한\\\\finance_data201903.xlsx')"
   ]
  },
  {
   "cell_type": "code",
   "execution_count": 4,
   "metadata": {},
   "outputs": [],
   "source": [
    "fd2=pd.read_excel('d:\\\\data2\\\\신한\\\\finance_data201909.xlsx')"
   ]
  },
  {
   "cell_type": "code",
   "execution_count": 5,
   "metadata": {},
   "outputs": [],
   "source": [
    "fd3=pd.read_excel('d:\\\\data2\\\\신한\\\\finance_data202003.xlsx')"
   ]
  },
  {
   "cell_type": "code",
   "execution_count": 6,
   "metadata": {},
   "outputs": [],
   "source": [
    "fd4=pd.read_excel('d:\\\\data2\\\\신한\\\\finance_data202009.xlsx')"
   ]
  },
  {
   "cell_type": "code",
   "execution_count": 7,
   "metadata": {},
   "outputs": [],
   "source": [
    "fd5=pd.read_excel('d:\\\\data2\\\\신한\\\\finance_data202103.xlsx')"
   ]
  },
  {
   "cell_type": "code",
   "execution_count": 8,
   "metadata": {},
   "outputs": [],
   "source": [
    "df=pd.concat([fd1,fd2,fd3,fd4,fd5],axis=0)"
   ]
  },
  {
   "cell_type": "code",
   "execution_count": 9,
   "metadata": {},
   "outputs": [
    {
     "data": {
      "text/html": [
       "<div>\n",
       "<style scoped>\n",
       "    .dataframe tbody tr th:only-of-type {\n",
       "        vertical-align: middle;\n",
       "    }\n",
       "\n",
       "    .dataframe tbody tr th {\n",
       "        vertical-align: top;\n",
       "    }\n",
       "\n",
       "    .dataframe thead th {\n",
       "        text-align: right;\n",
       "    }\n",
       "</style>\n",
       "<table border=\"1\" class=\"dataframe\">\n",
       "  <thead>\n",
       "    <tr style=\"text-align: right;\">\n",
       "      <th></th>\n",
       "      <th>기준년월</th>\n",
       "      <th>지역구</th>\n",
       "      <th>법정동코드</th>\n",
       "      <th>법정동</th>\n",
       "      <th>집계구코드</th>\n",
       "      <th>나이</th>\n",
       "      <th>성별</th>\n",
       "      <th>직장인여부</th>\n",
       "      <th>급여입금</th>\n",
       "      <th>가맹점매출입금</th>\n",
       "      <th>연금입금</th>\n",
       "      <th>총소비금액</th>\n",
       "      <th>총수신금액</th>\n",
       "      <th>예적금금액</th>\n",
       "      <th>신탁금액</th>\n",
       "      <th>수익증권금액</th>\n",
       "      <th>신용대출금액</th>\n",
       "      <th>담보대출금액</th>\n",
       "      <th>주택대출금액</th>\n",
       "      <th>전세자금대출금액</th>\n",
       "    </tr>\n",
       "  </thead>\n",
       "  <tbody>\n",
       "    <tr>\n",
       "      <th>0</th>\n",
       "      <td>201903</td>\n",
       "      <td>강남구</td>\n",
       "      <td>11680101</td>\n",
       "      <td>역삼동</td>\n",
       "      <td>1123064010001</td>\n",
       "      <td>2</td>\n",
       "      <td>1</td>\n",
       "      <td>0</td>\n",
       "      <td>0</td>\n",
       "      <td>0</td>\n",
       "      <td>0</td>\n",
       "      <td>2018319</td>\n",
       "      <td>2430312</td>\n",
       "      <td>0</td>\n",
       "      <td>0</td>\n",
       "      <td>0</td>\n",
       "      <td>0</td>\n",
       "      <td>0</td>\n",
       "      <td>0</td>\n",
       "      <td>0</td>\n",
       "    </tr>\n",
       "    <tr>\n",
       "      <th>1</th>\n",
       "      <td>201903</td>\n",
       "      <td>강남구</td>\n",
       "      <td>11680101</td>\n",
       "      <td>역삼동</td>\n",
       "      <td>1123064010001</td>\n",
       "      <td>2</td>\n",
       "      <td>2</td>\n",
       "      <td>0</td>\n",
       "      <td>0</td>\n",
       "      <td>0</td>\n",
       "      <td>0</td>\n",
       "      <td>2326837</td>\n",
       "      <td>2221251</td>\n",
       "      <td>0</td>\n",
       "      <td>0</td>\n",
       "      <td>0</td>\n",
       "      <td>0</td>\n",
       "      <td>0</td>\n",
       "      <td>0</td>\n",
       "      <td>0</td>\n",
       "    </tr>\n",
       "    <tr>\n",
       "      <th>2</th>\n",
       "      <td>201903</td>\n",
       "      <td>강남구</td>\n",
       "      <td>11680101</td>\n",
       "      <td>역삼동</td>\n",
       "      <td>1123064010001</td>\n",
       "      <td>3</td>\n",
       "      <td>1</td>\n",
       "      <td>0</td>\n",
       "      <td>0</td>\n",
       "      <td>0</td>\n",
       "      <td>0</td>\n",
       "      <td>1771639</td>\n",
       "      <td>1382057</td>\n",
       "      <td>1841250</td>\n",
       "      <td>0</td>\n",
       "      <td>0</td>\n",
       "      <td>0</td>\n",
       "      <td>0</td>\n",
       "      <td>0</td>\n",
       "      <td>0</td>\n",
       "    </tr>\n",
       "    <tr>\n",
       "      <th>3</th>\n",
       "      <td>201903</td>\n",
       "      <td>강남구</td>\n",
       "      <td>11680101</td>\n",
       "      <td>역삼동</td>\n",
       "      <td>1123064010001</td>\n",
       "      <td>3</td>\n",
       "      <td>2</td>\n",
       "      <td>0</td>\n",
       "      <td>0</td>\n",
       "      <td>0</td>\n",
       "      <td>0</td>\n",
       "      <td>1745601</td>\n",
       "      <td>2902578</td>\n",
       "      <td>3561440</td>\n",
       "      <td>0</td>\n",
       "      <td>0</td>\n",
       "      <td>0</td>\n",
       "      <td>0</td>\n",
       "      <td>0</td>\n",
       "      <td>0</td>\n",
       "    </tr>\n",
       "    <tr>\n",
       "      <th>4</th>\n",
       "      <td>201903</td>\n",
       "      <td>강남구</td>\n",
       "      <td>11680101</td>\n",
       "      <td>역삼동</td>\n",
       "      <td>1123064010001</td>\n",
       "      <td>4</td>\n",
       "      <td>1</td>\n",
       "      <td>0</td>\n",
       "      <td>0</td>\n",
       "      <td>0</td>\n",
       "      <td>0</td>\n",
       "      <td>1712433</td>\n",
       "      <td>1746992</td>\n",
       "      <td>8831666</td>\n",
       "      <td>0</td>\n",
       "      <td>0</td>\n",
       "      <td>0</td>\n",
       "      <td>0</td>\n",
       "      <td>0</td>\n",
       "      <td>0</td>\n",
       "    </tr>\n",
       "  </tbody>\n",
       "</table>\n",
       "</div>"
      ],
      "text/plain": [
       "     기준년월  지역구     법정동코드  법정동          집계구코드  나이  성별  직장인여부  급여입금  가맹점매출입금  \\\n",
       "0  201903  강남구  11680101  역삼동  1123064010001   2   1      0     0        0   \n",
       "1  201903  강남구  11680101  역삼동  1123064010001   2   2      0     0        0   \n",
       "2  201903  강남구  11680101  역삼동  1123064010001   3   1      0     0        0   \n",
       "3  201903  강남구  11680101  역삼동  1123064010001   3   2      0     0        0   \n",
       "4  201903  강남구  11680101  역삼동  1123064010001   4   1      0     0        0   \n",
       "\n",
       "   연금입금    총소비금액    총수신금액    예적금금액  신탁금액  수익증권금액  신용대출금액  담보대출금액  주택대출금액  \\\n",
       "0     0  2018319  2430312        0     0       0       0       0       0   \n",
       "1     0  2326837  2221251        0     0       0       0       0       0   \n",
       "2     0  1771639  1382057  1841250     0       0       0       0       0   \n",
       "3     0  1745601  2902578  3561440     0       0       0       0       0   \n",
       "4     0  1712433  1746992  8831666     0       0       0       0       0   \n",
       "\n",
       "   전세자금대출금액  \n",
       "0         0  \n",
       "1         0  \n",
       "2         0  \n",
       "3         0  \n",
       "4         0  "
      ]
     },
     "execution_count": 9,
     "metadata": {},
     "output_type": "execute_result"
    }
   ],
   "source": [
    "df.head()"
   ]
  },
  {
   "cell_type": "markdown",
   "metadata": {},
   "source": [
    "## 결측치 확인"
   ]
  },
  {
   "cell_type": "code",
   "execution_count": 10,
   "metadata": {},
   "outputs": [
    {
     "data": {
      "text/plain": [
       "기준년월        0\n",
       "지역구         0\n",
       "법정동코드       0\n",
       "법정동         0\n",
       "집계구코드       0\n",
       "나이          0\n",
       "성별          0\n",
       "직장인여부       0\n",
       "급여입금        0\n",
       "가맹점매출입금     0\n",
       "연금입금        0\n",
       "총소비금액       0\n",
       "총수신금액       0\n",
       "예적금금액       0\n",
       "신탁금액        0\n",
       "수익증권금액      0\n",
       "신용대출금액      0\n",
       "담보대출금액      0\n",
       "주택대출금액      0\n",
       "전세자금대출금액    0\n",
       "dtype: int64"
      ]
     },
     "execution_count": 10,
     "metadata": {},
     "output_type": "execute_result"
    }
   ],
   "source": [
    "df.isnull().sum()"
   ]
  },
  {
   "cell_type": "markdown",
   "metadata": {},
   "source": [
    "## 명목형 변수 확인"
   ]
  },
  {
   "cell_type": "code",
   "execution_count": 11,
   "metadata": {
    "scrolled": true
   },
   "outputs": [
    {
     "data": {
      "text/html": [
       "<div>\n",
       "<style scoped>\n",
       "    .dataframe tbody tr th:only-of-type {\n",
       "        vertical-align: middle;\n",
       "    }\n",
       "\n",
       "    .dataframe tbody tr th {\n",
       "        vertical-align: top;\n",
       "    }\n",
       "\n",
       "    .dataframe thead th {\n",
       "        text-align: right;\n",
       "    }\n",
       "</style>\n",
       "<table border=\"1\" class=\"dataframe\">\n",
       "  <thead>\n",
       "    <tr style=\"text-align: right;\">\n",
       "      <th></th>\n",
       "      <th>count</th>\n",
       "      <th>unique</th>\n",
       "      <th>top</th>\n",
       "      <th>freq</th>\n",
       "    </tr>\n",
       "  </thead>\n",
       "  <tbody>\n",
       "    <tr>\n",
       "      <th>지역구</th>\n",
       "      <td>1039568</td>\n",
       "      <td>25</td>\n",
       "      <td>송파구</td>\n",
       "      <td>68405</td>\n",
       "    </tr>\n",
       "    <tr>\n",
       "      <th>법정동</th>\n",
       "      <td>1039568</td>\n",
       "      <td>451</td>\n",
       "      <td>신림동</td>\n",
       "      <td>27423</td>\n",
       "    </tr>\n",
       "  </tbody>\n",
       "</table>\n",
       "</div>"
      ],
      "text/plain": [
       "       count unique  top   freq\n",
       "지역구  1039568     25  송파구  68405\n",
       "법정동  1039568    451  신림동  27423"
      ]
     },
     "execution_count": 11,
     "metadata": {},
     "output_type": "execute_result"
    }
   ],
   "source": [
    "\n",
    "df[df.columns[df.dtypes.map(lambda x: x=='object')]].describe().transpose()"
   ]
  },
  {
   "cell_type": "code",
   "execution_count": 12,
   "metadata": {},
   "outputs": [],
   "source": [
    "df1=df.drop(['법정동코드','집계구코드'],axis=1)"
   ]
  },
  {
   "cell_type": "code",
   "execution_count": 154,
   "metadata": {
    "scrolled": false
   },
   "outputs": [
    {
     "data": {
      "text/html": [
       "<div>\n",
       "<style scoped>\n",
       "    .dataframe tbody tr th:only-of-type {\n",
       "        vertical-align: middle;\n",
       "    }\n",
       "\n",
       "    .dataframe tbody tr th {\n",
       "        vertical-align: top;\n",
       "    }\n",
       "\n",
       "    .dataframe thead th {\n",
       "        text-align: right;\n",
       "    }\n",
       "</style>\n",
       "<table border=\"1\" class=\"dataframe\">\n",
       "  <thead>\n",
       "    <tr style=\"text-align: right;\">\n",
       "      <th></th>\n",
       "      <th>기준년월</th>\n",
       "      <th>지역구</th>\n",
       "      <th>법정동</th>\n",
       "      <th>나이</th>\n",
       "      <th>성별</th>\n",
       "      <th>직장인여부</th>\n",
       "      <th>급여입금</th>\n",
       "      <th>가맹점매출입금</th>\n",
       "      <th>연금입금</th>\n",
       "      <th>총소비금액</th>\n",
       "      <th>총수신금액</th>\n",
       "      <th>예적금금액</th>\n",
       "      <th>신탁금액</th>\n",
       "      <th>수익증권금액</th>\n",
       "      <th>신용대출금액</th>\n",
       "      <th>담보대출금액</th>\n",
       "      <th>주택대출금액</th>\n",
       "      <th>전세자금대출금액</th>\n",
       "    </tr>\n",
       "  </thead>\n",
       "  <tbody>\n",
       "    <tr>\n",
       "      <th>0</th>\n",
       "      <td>201903</td>\n",
       "      <td>강남구</td>\n",
       "      <td>역삼동</td>\n",
       "      <td>2</td>\n",
       "      <td>1</td>\n",
       "      <td>0</td>\n",
       "      <td>0</td>\n",
       "      <td>0</td>\n",
       "      <td>0</td>\n",
       "      <td>2018319</td>\n",
       "      <td>2430312</td>\n",
       "      <td>0</td>\n",
       "      <td>0</td>\n",
       "      <td>0</td>\n",
       "      <td>0</td>\n",
       "      <td>0</td>\n",
       "      <td>0</td>\n",
       "      <td>0</td>\n",
       "    </tr>\n",
       "    <tr>\n",
       "      <th>1</th>\n",
       "      <td>201903</td>\n",
       "      <td>강남구</td>\n",
       "      <td>역삼동</td>\n",
       "      <td>2</td>\n",
       "      <td>2</td>\n",
       "      <td>0</td>\n",
       "      <td>0</td>\n",
       "      <td>0</td>\n",
       "      <td>0</td>\n",
       "      <td>2326837</td>\n",
       "      <td>2221251</td>\n",
       "      <td>0</td>\n",
       "      <td>0</td>\n",
       "      <td>0</td>\n",
       "      <td>0</td>\n",
       "      <td>0</td>\n",
       "      <td>0</td>\n",
       "      <td>0</td>\n",
       "    </tr>\n",
       "    <tr>\n",
       "      <th>2</th>\n",
       "      <td>201903</td>\n",
       "      <td>강남구</td>\n",
       "      <td>역삼동</td>\n",
       "      <td>3</td>\n",
       "      <td>1</td>\n",
       "      <td>0</td>\n",
       "      <td>0</td>\n",
       "      <td>0</td>\n",
       "      <td>0</td>\n",
       "      <td>1771639</td>\n",
       "      <td>1382057</td>\n",
       "      <td>1841250</td>\n",
       "      <td>0</td>\n",
       "      <td>0</td>\n",
       "      <td>0</td>\n",
       "      <td>0</td>\n",
       "      <td>0</td>\n",
       "      <td>0</td>\n",
       "    </tr>\n",
       "    <tr>\n",
       "      <th>3</th>\n",
       "      <td>201903</td>\n",
       "      <td>강남구</td>\n",
       "      <td>역삼동</td>\n",
       "      <td>3</td>\n",
       "      <td>2</td>\n",
       "      <td>0</td>\n",
       "      <td>0</td>\n",
       "      <td>0</td>\n",
       "      <td>0</td>\n",
       "      <td>1745601</td>\n",
       "      <td>2902578</td>\n",
       "      <td>3561440</td>\n",
       "      <td>0</td>\n",
       "      <td>0</td>\n",
       "      <td>0</td>\n",
       "      <td>0</td>\n",
       "      <td>0</td>\n",
       "      <td>0</td>\n",
       "    </tr>\n",
       "    <tr>\n",
       "      <th>4</th>\n",
       "      <td>201903</td>\n",
       "      <td>강남구</td>\n",
       "      <td>역삼동</td>\n",
       "      <td>4</td>\n",
       "      <td>1</td>\n",
       "      <td>0</td>\n",
       "      <td>0</td>\n",
       "      <td>0</td>\n",
       "      <td>0</td>\n",
       "      <td>1712433</td>\n",
       "      <td>1746992</td>\n",
       "      <td>8831666</td>\n",
       "      <td>0</td>\n",
       "      <td>0</td>\n",
       "      <td>0</td>\n",
       "      <td>0</td>\n",
       "      <td>0</td>\n",
       "      <td>0</td>\n",
       "    </tr>\n",
       "  </tbody>\n",
       "</table>\n",
       "</div>"
      ],
      "text/plain": [
       "     기준년월  지역구  법정동  나이  성별  직장인여부  급여입금  가맹점매출입금  연금입금    총소비금액    총수신금액  \\\n",
       "0  201903  강남구  역삼동   2   1      0     0        0     0  2018319  2430312   \n",
       "1  201903  강남구  역삼동   2   2      0     0        0     0  2326837  2221251   \n",
       "2  201903  강남구  역삼동   3   1      0     0        0     0  1771639  1382057   \n",
       "3  201903  강남구  역삼동   3   2      0     0        0     0  1745601  2902578   \n",
       "4  201903  강남구  역삼동   4   1      0     0        0     0  1712433  1746992   \n",
       "\n",
       "     예적금금액  신탁금액  수익증권금액  신용대출금액  담보대출금액  주택대출금액  전세자금대출금액  \n",
       "0        0     0       0       0       0       0         0  \n",
       "1        0     0       0       0       0       0         0  \n",
       "2  1841250     0       0       0       0       0         0  \n",
       "3  3561440     0       0       0       0       0         0  \n",
       "4  8831666     0       0       0       0       0         0  "
      ]
     },
     "execution_count": 154,
     "metadata": {},
     "output_type": "execute_result"
    }
   ],
   "source": [
    "df1.head()"
   ]
  },
  {
   "cell_type": "markdown",
   "metadata": {},
   "source": [
    "MZ세대 구분 칼럼 추가"
   ]
  },
  {
   "cell_type": "code",
   "execution_count": 26,
   "metadata": {},
   "outputs": [],
   "source": [
    "df2=df1.copy()"
   ]
  },
  {
   "cell_type": "code",
   "execution_count": 27,
   "metadata": {},
   "outputs": [],
   "source": [
    "df2['MZ여부']=np.nan"
   ]
  },
  {
   "cell_type": "code",
   "execution_count": 28,
   "metadata": {},
   "outputs": [],
   "source": [
    "df2['MZ여부']=df2.나이.apply(lambda x: 'MZ세대' if (x==2)|(x==3) else '기성세대') "
   ]
  },
  {
   "cell_type": "code",
   "execution_count": 155,
   "metadata": {},
   "outputs": [
    {
     "data": {
      "text/html": [
       "<div>\n",
       "<style scoped>\n",
       "    .dataframe tbody tr th:only-of-type {\n",
       "        vertical-align: middle;\n",
       "    }\n",
       "\n",
       "    .dataframe tbody tr th {\n",
       "        vertical-align: top;\n",
       "    }\n",
       "\n",
       "    .dataframe thead th {\n",
       "        text-align: right;\n",
       "    }\n",
       "</style>\n",
       "<table border=\"1\" class=\"dataframe\">\n",
       "  <thead>\n",
       "    <tr style=\"text-align: right;\">\n",
       "      <th></th>\n",
       "      <th>기준년월</th>\n",
       "      <th>지역구</th>\n",
       "      <th>법정동</th>\n",
       "      <th>나이</th>\n",
       "      <th>성별</th>\n",
       "      <th>직장인여부</th>\n",
       "      <th>급여입금</th>\n",
       "      <th>가맹점매출입금</th>\n",
       "      <th>연금입금</th>\n",
       "      <th>총소비금액</th>\n",
       "      <th>총수신금액</th>\n",
       "      <th>예적금금액</th>\n",
       "      <th>신탁금액</th>\n",
       "      <th>수익증권금액</th>\n",
       "      <th>신용대출금액</th>\n",
       "      <th>담보대출금액</th>\n",
       "      <th>주택대출금액</th>\n",
       "      <th>전세자금대출금액</th>\n",
       "      <th>MZ여부</th>\n",
       "    </tr>\n",
       "  </thead>\n",
       "  <tbody>\n",
       "    <tr>\n",
       "      <th>0</th>\n",
       "      <td>201903</td>\n",
       "      <td>강남구</td>\n",
       "      <td>역삼동</td>\n",
       "      <td>2</td>\n",
       "      <td>1</td>\n",
       "      <td>0</td>\n",
       "      <td>0</td>\n",
       "      <td>0</td>\n",
       "      <td>0</td>\n",
       "      <td>2018319</td>\n",
       "      <td>2430312</td>\n",
       "      <td>0</td>\n",
       "      <td>0</td>\n",
       "      <td>0</td>\n",
       "      <td>0</td>\n",
       "      <td>0</td>\n",
       "      <td>0</td>\n",
       "      <td>0</td>\n",
       "      <td>MZ세대</td>\n",
       "    </tr>\n",
       "    <tr>\n",
       "      <th>1</th>\n",
       "      <td>201903</td>\n",
       "      <td>강남구</td>\n",
       "      <td>역삼동</td>\n",
       "      <td>2</td>\n",
       "      <td>2</td>\n",
       "      <td>0</td>\n",
       "      <td>0</td>\n",
       "      <td>0</td>\n",
       "      <td>0</td>\n",
       "      <td>2326837</td>\n",
       "      <td>2221251</td>\n",
       "      <td>0</td>\n",
       "      <td>0</td>\n",
       "      <td>0</td>\n",
       "      <td>0</td>\n",
       "      <td>0</td>\n",
       "      <td>0</td>\n",
       "      <td>0</td>\n",
       "      <td>MZ세대</td>\n",
       "    </tr>\n",
       "    <tr>\n",
       "      <th>2</th>\n",
       "      <td>201903</td>\n",
       "      <td>강남구</td>\n",
       "      <td>역삼동</td>\n",
       "      <td>3</td>\n",
       "      <td>1</td>\n",
       "      <td>0</td>\n",
       "      <td>0</td>\n",
       "      <td>0</td>\n",
       "      <td>0</td>\n",
       "      <td>1771639</td>\n",
       "      <td>1382057</td>\n",
       "      <td>1841250</td>\n",
       "      <td>0</td>\n",
       "      <td>0</td>\n",
       "      <td>0</td>\n",
       "      <td>0</td>\n",
       "      <td>0</td>\n",
       "      <td>0</td>\n",
       "      <td>MZ세대</td>\n",
       "    </tr>\n",
       "    <tr>\n",
       "      <th>3</th>\n",
       "      <td>201903</td>\n",
       "      <td>강남구</td>\n",
       "      <td>역삼동</td>\n",
       "      <td>3</td>\n",
       "      <td>2</td>\n",
       "      <td>0</td>\n",
       "      <td>0</td>\n",
       "      <td>0</td>\n",
       "      <td>0</td>\n",
       "      <td>1745601</td>\n",
       "      <td>2902578</td>\n",
       "      <td>3561440</td>\n",
       "      <td>0</td>\n",
       "      <td>0</td>\n",
       "      <td>0</td>\n",
       "      <td>0</td>\n",
       "      <td>0</td>\n",
       "      <td>0</td>\n",
       "      <td>MZ세대</td>\n",
       "    </tr>\n",
       "    <tr>\n",
       "      <th>4</th>\n",
       "      <td>201903</td>\n",
       "      <td>강남구</td>\n",
       "      <td>역삼동</td>\n",
       "      <td>4</td>\n",
       "      <td>1</td>\n",
       "      <td>0</td>\n",
       "      <td>0</td>\n",
       "      <td>0</td>\n",
       "      <td>0</td>\n",
       "      <td>1712433</td>\n",
       "      <td>1746992</td>\n",
       "      <td>8831666</td>\n",
       "      <td>0</td>\n",
       "      <td>0</td>\n",
       "      <td>0</td>\n",
       "      <td>0</td>\n",
       "      <td>0</td>\n",
       "      <td>0</td>\n",
       "      <td>기성세대</td>\n",
       "    </tr>\n",
       "  </tbody>\n",
       "</table>\n",
       "</div>"
      ],
      "text/plain": [
       "     기준년월  지역구  법정동  나이  성별  직장인여부  급여입금  가맹점매출입금  연금입금    총소비금액    총수신금액  \\\n",
       "0  201903  강남구  역삼동   2   1      0     0        0     0  2018319  2430312   \n",
       "1  201903  강남구  역삼동   2   2      0     0        0     0  2326837  2221251   \n",
       "2  201903  강남구  역삼동   3   1      0     0        0     0  1771639  1382057   \n",
       "3  201903  강남구  역삼동   3   2      0     0        0     0  1745601  2902578   \n",
       "4  201903  강남구  역삼동   4   1      0     0        0     0  1712433  1746992   \n",
       "\n",
       "     예적금금액  신탁금액  수익증권금액  신용대출금액  담보대출금액  주택대출금액  전세자금대출금액  MZ여부  \n",
       "0        0     0       0       0       0       0         0  MZ세대  \n",
       "1        0     0       0       0       0       0         0  MZ세대  \n",
       "2  1841250     0       0       0       0       0         0  MZ세대  \n",
       "3  3561440     0       0       0       0       0         0  MZ세대  \n",
       "4  8831666     0       0       0       0       0         0  기성세대  "
      ]
     },
     "execution_count": 155,
     "metadata": {},
     "output_type": "execute_result"
    }
   ],
   "source": [
    "df2.head()"
   ]
  },
  {
   "cell_type": "code",
   "execution_count": 34,
   "metadata": {
    "scrolled": true
   },
   "outputs": [],
   "source": [
    "a=df2.groupby(['MZ여부'],as_index=False)['나이'].count()\n",
    "a.columns=['세대','건수']"
   ]
  },
  {
   "cell_type": "code",
   "execution_count": 33,
   "metadata": {
    "scrolled": true
   },
   "outputs": [
    {
     "data": {
      "text/html": [
       "<div>\n",
       "<style scoped>\n",
       "    .dataframe tbody tr th:only-of-type {\n",
       "        vertical-align: middle;\n",
       "    }\n",
       "\n",
       "    .dataframe tbody tr th {\n",
       "        vertical-align: top;\n",
       "    }\n",
       "\n",
       "    .dataframe thead th {\n",
       "        text-align: right;\n",
       "    }\n",
       "</style>\n",
       "<table border=\"1\" class=\"dataframe\">\n",
       "  <thead>\n",
       "    <tr style=\"text-align: right;\">\n",
       "      <th></th>\n",
       "      <th>세대</th>\n",
       "      <th>숫자</th>\n",
       "    </tr>\n",
       "  </thead>\n",
       "  <tbody>\n",
       "    <tr>\n",
       "      <th>0</th>\n",
       "      <td>MZ세대</td>\n",
       "      <td>359432</td>\n",
       "    </tr>\n",
       "    <tr>\n",
       "      <th>1</th>\n",
       "      <td>기성세대</td>\n",
       "      <td>680136</td>\n",
       "    </tr>\n",
       "  </tbody>\n",
       "</table>\n",
       "</div>"
      ],
      "text/plain": [
       "     세대      숫자\n",
       "0  MZ세대  359432\n",
       "1  기성세대  680136"
      ]
     },
     "execution_count": 33,
     "metadata": {},
     "output_type": "execute_result"
    }
   ],
   "source": [
    "a"
   ]
  },
  {
   "cell_type": "markdown",
   "metadata": {},
   "source": [
    "# 가계 수입 부분\n",
    "\n",
    "1. 급여임금\n",
    "2. 가맹점 매출입금\n",
    "3. 연금입금\n",
    "/컫\n",
    "\n"
   ]
  },
  {
   "cell_type": "code",
   "execution_count": 60,
   "metadata": {
    "scrolled": false
   },
   "outputs": [
    {
     "data": {
      "text/html": [
       "<div>\n",
       "<style scoped>\n",
       "    .dataframe tbody tr th:only-of-type {\n",
       "        vertical-align: middle;\n",
       "    }\n",
       "\n",
       "    .dataframe tbody tr th {\n",
       "        vertical-align: top;\n",
       "    }\n",
       "\n",
       "    .dataframe thead th {\n",
       "        text-align: right;\n",
       "    }\n",
       "</style>\n",
       "<table border=\"1\" class=\"dataframe\">\n",
       "  <thead>\n",
       "    <tr style=\"text-align: right;\">\n",
       "      <th></th>\n",
       "      <th>기준년월</th>\n",
       "      <th>MZ여부</th>\n",
       "      <th>급여입금</th>\n",
       "      <th>가맹점매출입금</th>\n",
       "      <th>연금입금</th>\n",
       "    </tr>\n",
       "  </thead>\n",
       "  <tbody>\n",
       "    <tr>\n",
       "      <th>0</th>\n",
       "      <td>201903</td>\n",
       "      <td>MZ세대</td>\n",
       "      <td>11361255501</td>\n",
       "      <td>27714521</td>\n",
       "      <td>849522</td>\n",
       "    </tr>\n",
       "    <tr>\n",
       "      <th>1</th>\n",
       "      <td>201903</td>\n",
       "      <td>기성세대</td>\n",
       "      <td>9444576435</td>\n",
       "      <td>811813661</td>\n",
       "      <td>3467577333</td>\n",
       "    </tr>\n",
       "    <tr>\n",
       "      <th>2</th>\n",
       "      <td>201909</td>\n",
       "      <td>MZ세대</td>\n",
       "      <td>12869169588</td>\n",
       "      <td>26285008</td>\n",
       "      <td>1298152</td>\n",
       "    </tr>\n",
       "    <tr>\n",
       "      <th>3</th>\n",
       "      <td>201909</td>\n",
       "      <td>기성세대</td>\n",
       "      <td>11160845863</td>\n",
       "      <td>591589123</td>\n",
       "      <td>3670132355</td>\n",
       "    </tr>\n",
       "    <tr>\n",
       "      <th>4</th>\n",
       "      <td>202003</td>\n",
       "      <td>MZ세대</td>\n",
       "      <td>13138373211</td>\n",
       "      <td>21849388</td>\n",
       "      <td>1063292</td>\n",
       "    </tr>\n",
       "    <tr>\n",
       "      <th>5</th>\n",
       "      <td>202003</td>\n",
       "      <td>기성세대</td>\n",
       "      <td>12872347530</td>\n",
       "      <td>333253709</td>\n",
       "      <td>4261262966</td>\n",
       "    </tr>\n",
       "    <tr>\n",
       "      <th>6</th>\n",
       "      <td>202009</td>\n",
       "      <td>MZ세대</td>\n",
       "      <td>14986629650</td>\n",
       "      <td>10129696</td>\n",
       "      <td>1309636</td>\n",
       "    </tr>\n",
       "    <tr>\n",
       "      <th>7</th>\n",
       "      <td>202009</td>\n",
       "      <td>기성세대</td>\n",
       "      <td>13543333724</td>\n",
       "      <td>348032026</td>\n",
       "      <td>4274013997</td>\n",
       "    </tr>\n",
       "    <tr>\n",
       "      <th>8</th>\n",
       "      <td>202103</td>\n",
       "      <td>MZ세대</td>\n",
       "      <td>14883973889</td>\n",
       "      <td>31937922</td>\n",
       "      <td>1878016</td>\n",
       "    </tr>\n",
       "    <tr>\n",
       "      <th>9</th>\n",
       "      <td>202103</td>\n",
       "      <td>기성세대</td>\n",
       "      <td>14864800514</td>\n",
       "      <td>514755152</td>\n",
       "      <td>4862969143</td>\n",
       "    </tr>\n",
       "  </tbody>\n",
       "</table>\n",
       "</div>"
      ],
      "text/plain": [
       "     기준년월  MZ여부         급여입금    가맹점매출입금        연금입금\n",
       "0  201903  MZ세대  11361255501   27714521      849522\n",
       "1  201903  기성세대   9444576435  811813661  3467577333\n",
       "2  201909  MZ세대  12869169588   26285008     1298152\n",
       "3  201909  기성세대  11160845863  591589123  3670132355\n",
       "4  202003  MZ세대  13138373211   21849388     1063292\n",
       "5  202003  기성세대  12872347530  333253709  4261262966\n",
       "6  202009  MZ세대  14986629650   10129696     1309636\n",
       "7  202009  기성세대  13543333724  348032026  4274013997\n",
       "8  202103  MZ세대  14883973889   31937922     1878016\n",
       "9  202103  기성세대  14864800514  514755152  4862969143"
      ]
     },
     "execution_count": 60,
     "metadata": {},
     "output_type": "execute_result"
    }
   ],
   "source": [
    "gp_s=df2.groupby(['기준년월','MZ여부'],as_index=False)[['급여입금','가맹점매출입금','연금입금']].sum()\n",
    "gp_s"
   ]
  },
  {
   "cell_type": "markdown",
   "metadata": {},
   "source": [
    "=> 가맹점 매출입금의 경우에는 MZ세대와 기성세대간 큰 격차가 존재했는데, 이는 자영업자의 수가 기성세대가 더 많기 때문이라고 볼 수도 있으나\n",
    "가맹점 매출입금 컬럼이 자영업자의 총 소득으로 볼 수 없기 때문에 (은행을 여러 곳을 사용하는 경우도 있음) 이를 단정지을 수 없다.\n",
    "\n"
   ]
  },
  {
   "cell_type": "markdown",
   "metadata": {},
   "source": [
    "=> 연금입금의 경우에는 대부분의 경우가 고령층 연금수령에 해당하기 때문에 큰 격차가 있는 것으로 보인다. "
   ]
  },
  {
   "cell_type": "markdown",
   "metadata": {},
   "source": [
    "=> 기준년월을 기준으로 MZ세대와 기성세대를 그룹핑 했을때 MZ세대의 급여가 조금 더 높게 나타났다. \n"
   ]
  },
  {
   "cell_type": "code",
   "execution_count": 67,
   "metadata": {},
   "outputs": [
    {
     "name": "stdout",
     "output_type": "stream",
     "text": [
      "---MZ세대---\n",
      "0    11361255501\n",
      "2    12869169588\n",
      "4    13138373211\n",
      "6    14986629650\n",
      "8    14883973889\n",
      "Name: 급여입금, dtype: int64\n",
      " \n",
      "---기성세대---\n",
      "1     9444576435\n",
      "3    11160845863\n",
      "5    12872347530\n",
      "7    13543333724\n",
      "9    14864800514\n",
      "Name: 급여입금, dtype: int64\n"
     ]
    }
   ],
   "source": [
    "y0=gp_s.loc[gp_s['MZ여부']=='MZ세대','급여입금']\n",
    "y1=gp_s.loc[gp_s['MZ여부']=='기성세대','급여입금']\n",
    "\n",
    "print('---MZ세대---')\n",
    "print(y0)\n",
    "print(' ')\n",
    "print('---기성세대---')\n",
    "print(y1)\n"
   ]
  },
  {
   "cell_type": "code",
   "execution_count": 97,
   "metadata": {
    "scrolled": false
   },
   "outputs": [
    {
     "data": {
      "image/png": "[encoded data removed]",
      "text/plain": [
       "<Figure size 1080x720 with 1 Axes>"
      ]
     },
     "metadata": {
      "needs_background": "light"
     },
     "output_type": "display_data"
    }
   ],
   "source": [
    "fig=plt.figure(figsize=(15,10))\n",
    "sns.barplot(x='기준년월',y='급여입금',hue='MZ여부',data=gp_s)\n",
    "plt.title('MZ세대와 기성세대 급여입금 비교',fontsize=30)\n",
    "plt.legend(fontsize=15)\n",
    "plt.ticklabel_format(axis=\"y\", style=\"sci\", scilimits=(1,1))\n",
    "plt.show()"
   ]
  },
  {
   "cell_type": "code",
   "execution_count": 156,
   "metadata": {
    "scrolled": true
   },
   "outputs": [
    {
     "data": {
      "text/html": [
       "<div>\n",
       "<style scoped>\n",
       "    .dataframe tbody tr th:only-of-type {\n",
       "        vertical-align: middle;\n",
       "    }\n",
       "\n",
       "    .dataframe tbody tr th {\n",
       "        vertical-align: top;\n",
       "    }\n",
       "\n",
       "    .dataframe thead th {\n",
       "        text-align: right;\n",
       "    }\n",
       "</style>\n",
       "<table border=\"1\" class=\"dataframe\">\n",
       "  <thead>\n",
       "    <tr style=\"text-align: right;\">\n",
       "      <th></th>\n",
       "      <th>기준년월</th>\n",
       "      <th>나이</th>\n",
       "      <th>급여입금</th>\n",
       "    </tr>\n",
       "  </thead>\n",
       "  <tbody>\n",
       "    <tr>\n",
       "      <th>0</th>\n",
       "      <td>201903</td>\n",
       "      <td>2</td>\n",
       "      <td>940575860</td>\n",
       "    </tr>\n",
       "    <tr>\n",
       "      <th>1</th>\n",
       "      <td>201903</td>\n",
       "      <td>3</td>\n",
       "      <td>10420679641</td>\n",
       "    </tr>\n",
       "    <tr>\n",
       "      <th>2</th>\n",
       "      <td>201903</td>\n",
       "      <td>4</td>\n",
       "      <td>6194852133</td>\n",
       "    </tr>\n",
       "    <tr>\n",
       "      <th>3</th>\n",
       "      <td>201903</td>\n",
       "      <td>5</td>\n",
       "      <td>3019753808</td>\n",
       "    </tr>\n",
       "    <tr>\n",
       "      <th>4</th>\n",
       "      <td>201903</td>\n",
       "      <td>6</td>\n",
       "      <td>203242607</td>\n",
       "    </tr>\n",
       "  </tbody>\n",
       "</table>\n",
       "</div>"
      ],
      "text/plain": [
       "     기준년월  나이         급여입금\n",
       "0  201903   2    940575860\n",
       "1  201903   3  10420679641\n",
       "2  201903   4   6194852133\n",
       "3  201903   5   3019753808\n",
       "4  201903   6    203242607"
      ]
     },
     "execution_count": 156,
     "metadata": {},
     "output_type": "execute_result"
    }
   ],
   "source": [
    "gp_s2=df2.groupby(['기준년월','나이'],as_index=False)[['급여입금']].sum()\n",
    "gp_s2.head()"
   ]
  },
  {
   "cell_type": "code",
   "execution_count": 104,
   "metadata": {
    "scrolled": false
   },
   "outputs": [
    {
     "data": {
      "image/png": "[encoded data removed]",
      "text/plain": [
       "<Figure size 1440x504 with 1 Axes>"
      ]
     },
     "metadata": {},
     "output_type": "display_data"
    }
   ],
   "source": [
    "fig=plt.figure(figsize=(20,7))\n",
    "fig.set_facecolor('white')\n",
    "ax=fig.add_subplot()\n",
    "\n",
    "\n",
    "y0=gp_s2.loc[gp_s2.나이==2,'급여입금']\n",
    "y1=gp_s2.loc[gp_s2.나이==3,'급여입금']\n",
    "y2=gp_s2.loc[gp_s2.나이==4,'급여입금']\n",
    "y3=gp_s2.loc[gp_s2.나이==5,'급여입금']\n",
    "\n",
    "\n",
    "x=np.arange(5)\n",
    "xlab=gp['기준년월'].unique()\n",
    "\n",
    "ax.plot(x,y0,label='20대')\n",
    "ax.plot(x,y1,label='30대')\n",
    "ax.plot(x,y2,label='40대')\n",
    "ax.plot(x,y3,label='50대')\n",
    "\n",
    "ax.legend()\n",
    "\n",
    "plt.xticks(x,xlab)\n",
    "\n",
    "plt.xlabel('기준년월')\n",
    "plt.ylabel('급여입금액')\n",
    "plt.title('급여입금액 추이')\n",
    "\n",
    "plt.show()"
   ]
  },
  {
   "cell_type": "markdown",
   "metadata": {},
   "source": [
    "=> 급여 입금액의 경우에는 MZ세대에서는 대부분 30대가 기성세대에서는 40,50대가 높은 비중을 차지했다.\n",
    "\n",
    "시간의 흐름에 따른 변동 추이를 보면 30대 > 40대 > 50대 > 20대 순으로 급여입금액을 차지하고 있다.\n",
    "\n",
    "20대의 경우에는 취업준비생, 대학생이 포함되어있고 비정규직 근로자(아르바이트,기간제 근로) 비중이 높고 상대적으로 다른 세대에 비해 이직 또는 퇴사율이 높기 때문에 상대적으로 다른 세대에 비해 불안정한 형태를 보이고 있다. \n",
    "\n",
    "30대의 경우 20년 3월 이후 급여입금액이 가장 많이 향상되었는데 이는 기업의 채용방식이 공채에서 수시채용으로 변경되면서 경력이 없는 20대보다는 경력이 있고 실무 능력이 있는 30대를 선호하면서 30대의 급여 및 취직률이 향상되었기 때문으로 해석할 수 있다.\n",
    "\n",
    "40대와 50대는 꾸준히 안정적인 증가율을 보였는데 이는 20,30대에 비해 상대적으로 안정적인 직장을 보유하고 있기 때문으로 보인다. 또한 코로나로 인해 MZ세대의 급여가 정체되면서 2021년 3월에는 비슷한 수준의 급여입금액을 기록한 것으로 보인다.\n",
    "\n"
   ]
  },
  {
   "cell_type": "markdown",
   "metadata": {},
   "source": [
    "# 가계 소비 부분"
   ]
  },
  {
   "cell_type": "code",
   "execution_count": 158,
   "metadata": {
    "scrolled": false
   },
   "outputs": [
    {
     "data": {
      "text/html": [
       "<div>\n",
       "<style scoped>\n",
       "    .dataframe tbody tr th:only-of-type {\n",
       "        vertical-align: middle;\n",
       "    }\n",
       "\n",
       "    .dataframe tbody tr th {\n",
       "        vertical-align: top;\n",
       "    }\n",
       "\n",
       "    .dataframe thead th {\n",
       "        text-align: right;\n",
       "    }\n",
       "</style>\n",
       "<table border=\"1\" class=\"dataframe\">\n",
       "  <thead>\n",
       "    <tr style=\"text-align: right;\">\n",
       "      <th></th>\n",
       "      <th>기준년월</th>\n",
       "      <th>MZ여부</th>\n",
       "      <th>총소비금액</th>\n",
       "    </tr>\n",
       "  </thead>\n",
       "  <tbody>\n",
       "    <tr>\n",
       "      <th>0</th>\n",
       "      <td>201903</td>\n",
       "      <td>MZ세대</td>\n",
       "      <td>79124865757</td>\n",
       "    </tr>\n",
       "    <tr>\n",
       "      <th>1</th>\n",
       "      <td>201903</td>\n",
       "      <td>기성세대</td>\n",
       "      <td>159047696824</td>\n",
       "    </tr>\n",
       "    <tr>\n",
       "      <th>2</th>\n",
       "      <td>201909</td>\n",
       "      <td>MZ세대</td>\n",
       "      <td>84941962717</td>\n",
       "    </tr>\n",
       "    <tr>\n",
       "      <th>3</th>\n",
       "      <td>201909</td>\n",
       "      <td>기성세대</td>\n",
       "      <td>173712206448</td>\n",
       "    </tr>\n",
       "    <tr>\n",
       "      <th>4</th>\n",
       "      <td>202003</td>\n",
       "      <td>MZ세대</td>\n",
       "      <td>73549364955</td>\n",
       "    </tr>\n",
       "  </tbody>\n",
       "</table>\n",
       "</div>"
      ],
      "text/plain": [
       "     기준년월  MZ여부         총소비금액\n",
       "0  201903  MZ세대   79124865757\n",
       "1  201903  기성세대  159047696824\n",
       "2  201909  MZ세대   84941962717\n",
       "3  201909  기성세대  173712206448\n",
       "4  202003  MZ세대   73549364955"
      ]
     },
     "execution_count": 158,
     "metadata": {},
     "output_type": "execute_result"
    }
   ],
   "source": [
    "gp_d=df2.groupby(['기준년월','MZ여부'],as_index=False)[['총소비금액']].sum()\n",
    "gp_d.head()"
   ]
  },
  {
   "cell_type": "code",
   "execution_count": 114,
   "metadata": {
    "scrolled": false
   },
   "outputs": [
    {
     "data": {
      "image/png": "[encoded data removed]",
      "text/plain": [
       "<Figure size 1440x504 with 1 Axes>"
      ]
     },
     "metadata": {},
     "output_type": "display_data"
    }
   ],
   "source": [
    "fig=plt.figure(figsize=(20,7))\n",
    "fig.set_facecolor('white')\n",
    "ax=fig.add_subplot()\n",
    "\n",
    "\n",
    "y0=gp_d.loc[gp_d.MZ여부=='MZ세대','총소비금액']\n",
    "y1=gp_d.loc[gp_d.MZ여부=='기성세대','총소비금액']\n",
    "\n",
    "\n",
    "\n",
    "x=np.arange(5)\n",
    "xlab=gp['기준년월'].unique()\n",
    "\n",
    "ax.plot(x,y0,label='MZ세대')\n",
    "ax.plot(x,y1,label='기성세대')\n",
    "\n",
    "\n",
    "ax.legend()\n",
    "\n",
    "plt.xticks(x,xlab)\n",
    "\n",
    "plt.xlabel('기준년월')\n",
    "plt.ylabel('총소비금액')\n",
    "plt.title('총소비금액 추이')\n",
    "\n",
    "plt.show()"
   ]
  },
  {
   "cell_type": "code",
   "execution_count": 118,
   "metadata": {},
   "outputs": [
    {
     "data": {
      "text/html": [
       "<div>\n",
       "<style scoped>\n",
       "    .dataframe tbody tr th:only-of-type {\n",
       "        vertical-align: middle;\n",
       "    }\n",
       "\n",
       "    .dataframe tbody tr th {\n",
       "        vertical-align: top;\n",
       "    }\n",
       "\n",
       "    .dataframe thead th {\n",
       "        text-align: right;\n",
       "    }\n",
       "</style>\n",
       "<table border=\"1\" class=\"dataframe\">\n",
       "  <thead>\n",
       "    <tr style=\"text-align: right;\">\n",
       "      <th></th>\n",
       "      <th>나이</th>\n",
       "      <th>총소비금액</th>\n",
       "    </tr>\n",
       "  </thead>\n",
       "  <tbody>\n",
       "    <tr>\n",
       "      <th>0</th>\n",
       "      <td>2</td>\n",
       "      <td>144785951489</td>\n",
       "    </tr>\n",
       "    <tr>\n",
       "      <th>1</th>\n",
       "      <td>3</td>\n",
       "      <td>262176188214</td>\n",
       "    </tr>\n",
       "    <tr>\n",
       "      <th>2</th>\n",
       "      <td>4</td>\n",
       "      <td>285731161351</td>\n",
       "    </tr>\n",
       "    <tr>\n",
       "      <th>3</th>\n",
       "      <td>5</td>\n",
       "      <td>268218215445</td>\n",
       "    </tr>\n",
       "    <tr>\n",
       "      <th>4</th>\n",
       "      <td>6</td>\n",
       "      <td>189180044059</td>\n",
       "    </tr>\n",
       "    <tr>\n",
       "      <th>5</th>\n",
       "      <td>7</td>\n",
       "      <td>91869469277</td>\n",
       "    </tr>\n",
       "  </tbody>\n",
       "</table>\n",
       "</div>"
      ],
      "text/plain": [
       "   나이         총소비금액\n",
       "0   2  144785951489\n",
       "1   3  262176188214\n",
       "2   4  285731161351\n",
       "3   5  268218215445\n",
       "4   6  189180044059\n",
       "5   7   91869469277"
      ]
     },
     "execution_count": 118,
     "metadata": {},
     "output_type": "execute_result"
    }
   ],
   "source": [
    "df2.groupby(['나이'],as_index=False)[['총소비금액']].sum()"
   ]
  },
  {
   "cell_type": "markdown",
   "metadata": {},
   "source": [
    "기성세대가 MZ세대보다 더 많은 총소비금액을 보이고 있다. 이는 30대 40대 50대가 비슷한 소비규모를 보이고 있다는 점에서 40,50대가 포함되어있는 기성세대가 2배 이상의 규모를 보인 것으로 보인다.\n",
    "추세선을 보면 202003년에 동일하게 감소했다가 202009년 이후부터는 증가하는 추세를 보이고 있다. 이는 202003에 코로나의 본격화로 인해 소비심리 위축으로 인한 영향으로 보인다. 2020년 9월부터는 코로나가 본격적으로 장기화되면서 O2O서비스의 이용증가와 코로나의 영향으로 인한 보복소비 등으로 이러한 추세를 보이는 것으로 해석된다."
   ]
  },
  {
   "cell_type": "markdown",
   "metadata": {},
   "source": [
    "# 금융상품(투자)\n"
   ]
  },
  {
   "cell_type": "code",
   "execution_count": 135,
   "metadata": {
    "scrolled": false
   },
   "outputs": [
    {
     "name": "stderr",
     "output_type": "stream",
     "text": [
      "<ipython-input-135-56227174059b>:1: FutureWarning: Indexing with multiple keys (implicitly converted to a tuple of keys) will be deprecated, use a list instead.\n",
      "  gp_i=df2.groupby(['기준년월','MZ여부'],as_index=False)['총수신금액','예적금금액','신탁금액','수익증권금액'].sum()\n"
     ]
    },
    {
     "data": {
      "text/html": [
       "<div>\n",
       "<style scoped>\n",
       "    .dataframe tbody tr th:only-of-type {\n",
       "        vertical-align: middle;\n",
       "    }\n",
       "\n",
       "    .dataframe tbody tr th {\n",
       "        vertical-align: top;\n",
       "    }\n",
       "\n",
       "    .dataframe thead th {\n",
       "        text-align: right;\n",
       "    }\n",
       "</style>\n",
       "<table border=\"1\" class=\"dataframe\">\n",
       "  <thead>\n",
       "    <tr style=\"text-align: right;\">\n",
       "      <th></th>\n",
       "      <th>기준년월</th>\n",
       "      <th>MZ여부</th>\n",
       "      <th>총수신금액</th>\n",
       "      <th>예적금금액</th>\n",
       "      <th>신탁금액</th>\n",
       "      <th>수익증권금액</th>\n",
       "    </tr>\n",
       "  </thead>\n",
       "  <tbody>\n",
       "    <tr>\n",
       "      <th>0</th>\n",
       "      <td>201903</td>\n",
       "      <td>MZ세대</td>\n",
       "      <td>208881712948</td>\n",
       "      <td>213571176793</td>\n",
       "      <td>3244782775</td>\n",
       "      <td>2423606508</td>\n",
       "    </tr>\n",
       "    <tr>\n",
       "      <th>1</th>\n",
       "      <td>201903</td>\n",
       "      <td>기성세대</td>\n",
       "      <td>611318789057</td>\n",
       "      <td>526888103227</td>\n",
       "      <td>109494853833</td>\n",
       "      <td>45819243804</td>\n",
       "    </tr>\n",
       "    <tr>\n",
       "      <th>2</th>\n",
       "      <td>201909</td>\n",
       "      <td>MZ세대</td>\n",
       "      <td>218529780691</td>\n",
       "      <td>219059629686</td>\n",
       "      <td>4183901994</td>\n",
       "      <td>2548394021</td>\n",
       "    </tr>\n",
       "    <tr>\n",
       "      <th>3</th>\n",
       "      <td>201909</td>\n",
       "      <td>기성세대</td>\n",
       "      <td>613277480387</td>\n",
       "      <td>500630883213</td>\n",
       "      <td>108461617242</td>\n",
       "      <td>47568711379</td>\n",
       "    </tr>\n",
       "    <tr>\n",
       "      <th>4</th>\n",
       "      <td>202003</td>\n",
       "      <td>MZ세대</td>\n",
       "      <td>229569227944</td>\n",
       "      <td>224832518885</td>\n",
       "      <td>4064004009</td>\n",
       "      <td>2216075893</td>\n",
       "    </tr>\n",
       "    <tr>\n",
       "      <th>5</th>\n",
       "      <td>202003</td>\n",
       "      <td>기성세대</td>\n",
       "      <td>658834930291</td>\n",
       "      <td>537568234856</td>\n",
       "      <td>115996679672</td>\n",
       "      <td>43465564606</td>\n",
       "    </tr>\n",
       "    <tr>\n",
       "      <th>6</th>\n",
       "      <td>202009</td>\n",
       "      <td>MZ세대</td>\n",
       "      <td>250575545448</td>\n",
       "      <td>234515699743</td>\n",
       "      <td>3837973059</td>\n",
       "      <td>2041146060</td>\n",
       "    </tr>\n",
       "    <tr>\n",
       "      <th>7</th>\n",
       "      <td>202009</td>\n",
       "      <td>기성세대</td>\n",
       "      <td>692692369959</td>\n",
       "      <td>526603581128</td>\n",
       "      <td>102128083068</td>\n",
       "      <td>44772516094</td>\n",
       "    </tr>\n",
       "    <tr>\n",
       "      <th>8</th>\n",
       "      <td>202103</td>\n",
       "      <td>MZ세대</td>\n",
       "      <td>247492786145</td>\n",
       "      <td>218563634306</td>\n",
       "      <td>3339214408</td>\n",
       "      <td>1407615533</td>\n",
       "    </tr>\n",
       "    <tr>\n",
       "      <th>9</th>\n",
       "      <td>202103</td>\n",
       "      <td>기성세대</td>\n",
       "      <td>710515830363</td>\n",
       "      <td>511890640018</td>\n",
       "      <td>97863813845</td>\n",
       "      <td>39707220698</td>\n",
       "    </tr>\n",
       "  </tbody>\n",
       "</table>\n",
       "</div>"
      ],
      "text/plain": [
       "     기준년월  MZ여부         총수신금액         예적금금액          신탁금액       수익증권금액\n",
       "0  201903  MZ세대  208881712948  213571176793    3244782775   2423606508\n",
       "1  201903  기성세대  611318789057  526888103227  109494853833  45819243804\n",
       "2  201909  MZ세대  218529780691  219059629686    4183901994   2548394021\n",
       "3  201909  기성세대  613277480387  500630883213  108461617242  47568711379\n",
       "4  202003  MZ세대  229569227944  224832518885    4064004009   2216075893\n",
       "5  202003  기성세대  658834930291  537568234856  115996679672  43465564606\n",
       "6  202009  MZ세대  250575545448  234515699743    3837973059   2041146060\n",
       "7  202009  기성세대  692692369959  526603581128  102128083068  44772516094\n",
       "8  202103  MZ세대  247492786145  218563634306    3339214408   1407615533\n",
       "9  202103  기성세대  710515830363  511890640018   97863813845  39707220698"
      ]
     },
     "execution_count": 135,
     "metadata": {},
     "output_type": "execute_result"
    }
   ],
   "source": [
    "gp_i=df2.groupby(['기준년월','MZ여부'],as_index=False)['총수신금액','예적금금액','신탁금액','수익증권금액'].sum()\n",
    "gp_i"
   ]
  },
  {
   "cell_type": "code",
   "execution_count": 136,
   "metadata": {},
   "outputs": [
    {
     "data": {
      "image/png": "[encoded data removed]",
      "text/plain": [
       "<Figure size 1440x504 with 1 Axes>"
      ]
     },
     "metadata": {},
     "output_type": "display_data"
    }
   ],
   "source": [
    "fig=plt.figure(figsize=(20,7))\n",
    "fig.set_facecolor('white')\n",
    "ax=fig.add_subplot()\n",
    "\n",
    "\n",
    "y0=gp_i.loc[gp_i.MZ여부=='MZ세대','총수신금액']\n",
    "y1=gp_i.loc[gp_i.MZ여부=='기성세대','총수신금액']\n",
    "\n",
    "\n",
    "\n",
    "x=np.arange(5)\n",
    "xlab=gp['기준년월'].unique()\n",
    "\n",
    "ax.plot(x,y0,label='MZ세대')\n",
    "ax.plot(x,y1,label='기성세대')\n",
    "\n",
    "\n",
    "ax.legend()\n",
    "\n",
    "plt.xticks(x,xlab)\n",
    "\n",
    "plt.xlabel('기준년월')\n",
    "plt.ylabel('총수신금액')\n",
    "plt.title('총수신금액 추이')\n",
    "\n",
    "plt.show()"
   ]
  },
  {
   "cell_type": "code",
   "execution_count": 138,
   "metadata": {},
   "outputs": [
    {
     "data": {
      "image/png": "[encoded data removed]",
      "text/plain": [
       "<Figure size 1440x504 with 1 Axes>"
      ]
     },
     "metadata": {},
     "output_type": "display_data"
    }
   ],
   "source": [
    "fig=plt.figure(figsize=(20,7))\n",
    "fig.set_facecolor('white')\n",
    "ax=fig.add_subplot()\n",
    "\n",
    "\n",
    "y0=gp_i.loc[gp_i.MZ여부=='MZ세대','예적금금액']\n",
    "y1=gp_i.loc[gp_i.MZ여부=='기성세대','예적금금액']\n",
    "\n",
    "\n",
    "\n",
    "x=np.arange(5)\n",
    "xlab=gp['기준년월'].unique()\n",
    "\n",
    "ax.plot(x,y0,label='MZ세대')\n",
    "ax.plot(x,y1,label='기성세대')\n",
    "\n",
    "\n",
    "ax.legend()\n",
    "\n",
    "plt.xticks(x,xlab)\n",
    "\n",
    "plt.xlabel('기준년월')\n",
    "plt.ylabel('예적금금액')\n",
    "plt.title('예적금금액 추이')\n",
    "\n",
    "plt.show()"
   ]
  },
  {
   "cell_type": "code",
   "execution_count": 139,
   "metadata": {},
   "outputs": [
    {
     "data": {
      "image/png": "[encoded data removed]",
      "text/plain": [
       "<Figure size 1440x504 with 1 Axes>"
      ]
     },
     "metadata": {},
     "output_type": "display_data"
    }
   ],
   "source": [
    "fig=plt.figure(figsize=(20,7))\n",
    "fig.set_facecolor('white')\n",
    "ax=fig.add_subplot()\n",
    "\n",
    "\n",
    "y0=gp_i.loc[gp_i.MZ여부=='MZ세대','신탁금액']\n",
    "y1=gp_i.loc[gp_i.MZ여부=='기성세대','신탁금액']\n",
    "\n",
    "\n",
    "\n",
    "x=np.arange(5)\n",
    "xlab=gp['기준년월'].unique()\n",
    "\n",
    "ax.plot(x,y0,label='MZ세대')\n",
    "ax.plot(x,y1,label='기성세대')\n",
    "\n",
    "\n",
    "ax.legend()\n",
    "\n",
    "plt.xticks(x,xlab)\n",
    "\n",
    "plt.xlabel('기준년월')\n",
    "plt.ylabel('신탁금액')\n",
    "plt.title('총신탁금액 추이')\n",
    "\n",
    "plt.show()"
   ]
  },
  {
   "cell_type": "code",
   "execution_count": 140,
   "metadata": {},
   "outputs": [
    {
     "data": {
      "image/png": "[encoded data removed]",
      "text/plain": [
       "<Figure size 1440x504 with 1 Axes>"
      ]
     },
     "metadata": {},
     "output_type": "display_data"
    }
   ],
   "source": [
    "fig=plt.figure(figsize=(20,7))\n",
    "fig.set_facecolor('white')\n",
    "ax=fig.add_subplot()\n",
    "\n",
    "\n",
    "y0=gp_i.loc[gp_i.MZ여부=='MZ세대','수익증권금액']\n",
    "y1=gp_i.loc[gp_i.MZ여부=='기성세대','수익증권금액']\n",
    "\n",
    "\n",
    "\n",
    "x=np.arange(5)\n",
    "xlab=gp['기준년월'].unique()\n",
    "\n",
    "ax.plot(x,y0,label='MZ세대')\n",
    "ax.plot(x,y1,label='기성세대')\n",
    "\n",
    "\n",
    "ax.legend()\n",
    "\n",
    "plt.xticks(x,xlab)\n",
    "\n",
    "plt.xlabel('기준년월')\n",
    "plt.ylabel('수익증권금액')\n",
    "plt.title('수익증권금액 추이')\n",
    "\n",
    "plt.show()"
   ]
  },
  {
   "cell_type": "raw",
   "metadata": {},
   "source": [
    "전반적인 MZ세대의 금융자산에 관한 항목 추이를 보면 수익증권이나 신탁금액은 기성세대와 다르게 거의 차이가 없다. 이는 MZ세대가 은행을 통한 금융상품 투자보다는 증권사를 통해 직접 코인이나 주식을 투자하기 때문으로 보인다. 특히 예적금 금액은 총 수신금액과 비슷한 형태를 보이고 있는데 21년 3월에는 20년 9월에 비해 예적금 금액이 감소한 것을 확인할 수 있다. 이 또한 저금리로 인해 예적금으로 인한 수익률이 저하되고 MZ세대가 더 높은 수익을 얻을 수 있는 재태크를 찾아나섰기 때문에 이러한 추세를 보인다고 볼 수 있다."
   ]
  },
  {
   "cell_type": "code",
   "execution_count": null,
   "metadata": {},
   "outputs": [],
   "source": []
  },
  {
   "cell_type": "markdown",
   "metadata": {},
   "source": [
    "# 금융상품(대출)\n"
   ]
  },
  {
   "cell_type": "code",
   "execution_count": 145,
   "metadata": {},
   "outputs": [
    {
     "name": "stderr",
     "output_type": "stream",
     "text": [
      "<ipython-input-145-e4b37c24d4f9>:1: FutureWarning: Indexing with multiple keys (implicitly converted to a tuple of keys) will be deprecated, use a list instead.\n",
      "  gp_l=df2.groupby(['기준년월','MZ여부'],as_index=False)['신용대출금액','담보대출금액','주택대출금액','전세자금대출금액'].sum()\n"
     ]
    },
    {
     "data": {
      "text/html": [
       "<div>\n",
       "<style scoped>\n",
       "    .dataframe tbody tr th:only-of-type {\n",
       "        vertical-align: middle;\n",
       "    }\n",
       "\n",
       "    .dataframe tbody tr th {\n",
       "        vertical-align: top;\n",
       "    }\n",
       "\n",
       "    .dataframe thead th {\n",
       "        text-align: right;\n",
       "    }\n",
       "</style>\n",
       "<table border=\"1\" class=\"dataframe\">\n",
       "  <thead>\n",
       "    <tr style=\"text-align: right;\">\n",
       "      <th></th>\n",
       "      <th>기준년월</th>\n",
       "      <th>MZ여부</th>\n",
       "      <th>신용대출금액</th>\n",
       "      <th>담보대출금액</th>\n",
       "      <th>주택대출금액</th>\n",
       "      <th>전세자금대출금액</th>\n",
       "    </tr>\n",
       "  </thead>\n",
       "  <tbody>\n",
       "    <tr>\n",
       "      <th>0</th>\n",
       "      <td>201903</td>\n",
       "      <td>MZ세대</td>\n",
       "      <td>20870700851</td>\n",
       "      <td>93996910324</td>\n",
       "      <td>1219894302</td>\n",
       "      <td>27876760533</td>\n",
       "    </tr>\n",
       "    <tr>\n",
       "      <th>1</th>\n",
       "      <td>201903</td>\n",
       "      <td>기성세대</td>\n",
       "      <td>32355261274</td>\n",
       "      <td>265935052509</td>\n",
       "      <td>26004815513</td>\n",
       "      <td>3593229294</td>\n",
       "    </tr>\n",
       "    <tr>\n",
       "      <th>2</th>\n",
       "      <td>201909</td>\n",
       "      <td>MZ세대</td>\n",
       "      <td>26832188706</td>\n",
       "      <td>102561607264</td>\n",
       "      <td>1275273615</td>\n",
       "      <td>32643942689</td>\n",
       "    </tr>\n",
       "    <tr>\n",
       "      <th>3</th>\n",
       "      <td>201909</td>\n",
       "      <td>기성세대</td>\n",
       "      <td>36463433924</td>\n",
       "      <td>253705255769</td>\n",
       "      <td>22517448725</td>\n",
       "      <td>1964061714</td>\n",
       "    </tr>\n",
       "    <tr>\n",
       "      <th>4</th>\n",
       "      <td>202003</td>\n",
       "      <td>MZ세대</td>\n",
       "      <td>32916141109</td>\n",
       "      <td>131654981585</td>\n",
       "      <td>2127027136</td>\n",
       "      <td>53845325403</td>\n",
       "    </tr>\n",
       "    <tr>\n",
       "      <th>5</th>\n",
       "      <td>202003</td>\n",
       "      <td>기성세대</td>\n",
       "      <td>49094412174</td>\n",
       "      <td>253680169888</td>\n",
       "      <td>37056802575</td>\n",
       "      <td>1888657210</td>\n",
       "    </tr>\n",
       "    <tr>\n",
       "      <th>6</th>\n",
       "      <td>202009</td>\n",
       "      <td>MZ세대</td>\n",
       "      <td>46189339368</td>\n",
       "      <td>171945903045</td>\n",
       "      <td>2828895857</td>\n",
       "      <td>65484643574</td>\n",
       "    </tr>\n",
       "    <tr>\n",
       "      <th>7</th>\n",
       "      <td>202009</td>\n",
       "      <td>기성세대</td>\n",
       "      <td>56671286499</td>\n",
       "      <td>263090178164</td>\n",
       "      <td>33493140380</td>\n",
       "      <td>3954439374</td>\n",
       "    </tr>\n",
       "    <tr>\n",
       "      <th>8</th>\n",
       "      <td>202103</td>\n",
       "      <td>MZ세대</td>\n",
       "      <td>53325540462</td>\n",
       "      <td>214834722249</td>\n",
       "      <td>3399650442</td>\n",
       "      <td>86879543639</td>\n",
       "    </tr>\n",
       "    <tr>\n",
       "      <th>9</th>\n",
       "      <td>202103</td>\n",
       "      <td>기성세대</td>\n",
       "      <td>68621471761</td>\n",
       "      <td>290514846212</td>\n",
       "      <td>35719171011</td>\n",
       "      <td>6368433873</td>\n",
       "    </tr>\n",
       "  </tbody>\n",
       "</table>\n",
       "</div>"
      ],
      "text/plain": [
       "     기준년월  MZ여부       신용대출금액        담보대출금액       주택대출금액     전세자금대출금액\n",
       "0  201903  MZ세대  20870700851   93996910324   1219894302  27876760533\n",
       "1  201903  기성세대  32355261274  265935052509  26004815513   3593229294\n",
       "2  201909  MZ세대  26832188706  102561607264   1275273615  32643942689\n",
       "3  201909  기성세대  36463433924  253705255769  22517448725   1964061714\n",
       "4  202003  MZ세대  32916141109  131654981585   2127027136  53845325403\n",
       "5  202003  기성세대  49094412174  253680169888  37056802575   1888657210\n",
       "6  202009  MZ세대  46189339368  171945903045   2828895857  65484643574\n",
       "7  202009  기성세대  56671286499  263090178164  33493140380   3954439374\n",
       "8  202103  MZ세대  53325540462  214834722249   3399650442  86879543639\n",
       "9  202103  기성세대  68621471761  290514846212  35719171011   6368433873"
      ]
     },
     "execution_count": 145,
     "metadata": {},
     "output_type": "execute_result"
    }
   ],
   "source": [
    "gp_l=df2.groupby(['기준년월','MZ여부'],as_index=False)['신용대출금액','담보대출금액','주택대출금액','전세자금대출금액'].sum()\n",
    "gp_l"
   ]
  },
  {
   "cell_type": "code",
   "execution_count": 148,
   "metadata": {},
   "outputs": [
    {
     "data": {
      "image/png": "[encoded data removed]",
      "text/plain": [
       "<Figure size 1440x504 with 1 Axes>"
      ]
     },
     "metadata": {},
     "output_type": "display_data"
    }
   ],
   "source": [
    "fig=plt.figure(figsize=(20,7))\n",
    "fig.set_facecolor('white')\n",
    "ax=fig.add_subplot()\n",
    "\n",
    "\n",
    "y0=gp_l.loc[gp_l.MZ여부=='MZ세대','신용대출금액']\n",
    "y1=gp_l.loc[gp_l.MZ여부=='기성세대','신용대출금액']\n",
    "\n",
    "\n",
    "\n",
    "x=np.arange(5)\n",
    "xlab=gp['기준년월'].unique()\n",
    "\n",
    "ax.plot(x,y0,label='MZ세대')\n",
    "ax.plot(x,y1,label='기성세대')\n",
    "\n",
    "\n",
    "ax.legend()\n",
    "\n",
    "plt.xticks(x,xlab)\n",
    "\n",
    "plt.xlabel('기준년월')\n",
    "plt.ylabel('신용대출금액')\n",
    "plt.title('신용대출금액 추이')\n",
    "\n",
    "plt.show()"
   ]
  },
  {
   "cell_type": "code",
   "execution_count": 149,
   "metadata": {},
   "outputs": [
    {
     "data": {
      "image/png": "[encoded data removed]",
      "text/plain": [
       "<Figure size 1440x504 with 1 Axes>"
      ]
     },
     "metadata": {},
     "output_type": "display_data"
    }
   ],
   "source": [
    "fig=plt.figure(figsize=(20,7))\n",
    "fig.set_facecolor('white')\n",
    "ax=fig.add_subplot()\n",
    "\n",
    "\n",
    "y0=gp_l.loc[gp_l.MZ여부=='MZ세대','담보대출금액']\n",
    "y1=gp_l.loc[gp_l.MZ여부=='기성세대','담보대출금액']\n",
    "\n",
    "\n",
    "\n",
    "x=np.arange(5)\n",
    "xlab=gp['기준년월'].unique()\n",
    "\n",
    "ax.plot(x,y0,label='MZ세대')\n",
    "ax.plot(x,y1,label='기성세대')\n",
    "\n",
    "\n",
    "ax.legend()\n",
    "\n",
    "plt.xticks(x,xlab)\n",
    "\n",
    "plt.xlabel('기준년월')\n",
    "plt.ylabel('담보대출금액')\n",
    "plt.title('담보대출금액 추이')\n",
    "\n",
    "plt.show()"
   ]
  },
  {
   "cell_type": "code",
   "execution_count": 151,
   "metadata": {},
   "outputs": [
    {
     "data": {
      "image/png": "[encoded data removed]",
      "text/plain": [
       "<Figure size 1440x504 with 1 Axes>"
      ]
     },
     "metadata": {},
     "output_type": "display_data"
    }
   ],
   "source": [
    "fig=plt.figure(figsize=(20,7))\n",
    "fig.set_facecolor('white')\n",
    "ax=fig.add_subplot()\n",
    "\n",
    "\n",
    "y0=gp_l.loc[gp_l.MZ여부=='MZ세대','전세자금대출금액']\n",
    "y1=gp_l.loc[gp_l.MZ여부=='기성세대','전세자금대출금액']\n",
    "\n",
    "\n",
    "\n",
    "x=np.arange(5)\n",
    "xlab=gp['기준년월'].unique()\n",
    "\n",
    "ax.plot(x,y0,label='MZ세대')\n",
    "ax.plot(x,y1,label='기성세대')\n",
    "\n",
    "\n",
    "ax.legend()\n",
    "\n",
    "plt.xticks(x,xlab)\n",
    "\n",
    "plt.xlabel('기준년월')\n",
    "plt.ylabel('전세자금대출금액')\n",
    "plt.title('전세자금 대출 추이')\n",
    "\n",
    "plt.show()"
   ]
  },
  {
   "cell_type": "code",
   "execution_count": 153,
   "metadata": {
    "scrolled": true
   },
   "outputs": [
    {
     "data": {
      "image/png": "[encoded data removed]",
      "text/plain": [
       "<Figure size 1440x504 with 1 Axes>"
      ]
     },
     "metadata": {},
     "output_type": "display_data"
    }
   ],
   "source": [
    "fig=plt.figure(figsize=(20,7))\n",
    "fig.set_facecolor('white')\n",
    "ax=fig.add_subplot()\n",
    "\n",
    "\n",
    "y0=gp_l.loc[gp_l.MZ여부=='MZ세대','주택대출금액']\n",
    "y1=gp_l.loc[gp_l.MZ여부=='기성세대','주택대출금액']\n",
    "\n",
    "\n",
    "\n",
    "x=np.arange(5)\n",
    "xlab=gp['기준년월'].unique()\n",
    "\n",
    "ax.plot(x,y0,label='MZ세대')\n",
    "ax.plot(x,y1,label='기성세대')\n",
    "\n",
    "\n",
    "ax.legend()\n",
    "\n",
    "plt.xticks(x,xlab)\n",
    "\n",
    "plt.xlabel('기준년월')\n",
    "plt.ylabel('주택대출금액')\n",
    "plt.title('주택대출금액 추이')\n",
    "\n",
    "plt.show()"
   ]
  },
  {
   "cell_type": "markdown",
   "metadata": {},
   "source": [
    "대출상품과 관련된 MZ세대와 기성세대의 차이를 보면 전반적으로 양 세대 모두 규모의 차이가 있지만 대출의 비중이 늘어나고 있다.\n",
    "이는 코로나 여파로 인한 저금리와 실직 등과 같은 가계의 재정적 부담이 가중되면서 발생한 것으로 보인다.\n",
    "\n",
    "규모측면에서는 MZ세대는 전세자금대출이 기성세대는 주택대출금액에서 큰 차이를 보였는데 이는 상대적으로 안정적인 기성세대는 자가의 형태로 부동산을 소요하고있고 MZ세대는 전세 형식으로 집을 구하려 한다는 것을 알 수 있다. \n",
    "\n",
    "기성세대의 경우에는 일부 구간에서 대출이 감소하는 구간이 존재하지만 MZ세대의 경우는 지속적으로 증가하고 있다. 이는 MZ세대의 전세자금 대출뿐 아니라 대출을 통한 빛투, 영끌 등의 성향이 반영된 것으로 보인다.\n"
   ]
  }
 ],
 "metadata": {
  "kernelspec": {
   "display_name": "Python 3",
   "language": "python",
   "name": "python3"
  },
  "language_info": {
   "codemirror_mode": {
    "name": "ipython",
    "version": 3
   },
   "file_extension": ".py",
   "mimetype": "text/x-python",
   "name": "python",
   "nbconvert_exporter": "python",
   "pygments_lexer": "ipython3",
   "version": "3.8.5"
  }
 },
 "nbformat": 4,
 "nbformat_minor": 4
}
