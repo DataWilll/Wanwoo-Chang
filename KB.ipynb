{
 "cells": [
  {
   "cell_type": "code",
   "execution_count": 2,
   "metadata": {},
   "outputs": [],
   "source": [
    "import pandas as pd\n",
    "\n",
    "\n",
    "kb=pd.read_excel('d:\\\\data2\\\\mz데이터\\\\kb_mz.xlsx')"
   ]
  },
  {
   "cell_type": "code",
   "execution_count": 3,
   "metadata": {},
   "outputs": [],
   "source": [
    "from datetime import datetime\n",
    "kb['날짜']=kb['기준년도'].astype(str)+'/'+kb['기준년월'].astype(str)  #년도와 월 컬럼 결합\n",
    "\n",
    "kb['날짜']=pd.to_datetime(kb['날짜']).dt.to_period(freq='M') #년-월 형태로만 출력되도록 변경"
   ]
  },
  {
   "cell_type": "code",
   "execution_count": 4,
   "metadata": {},
   "outputs": [],
   "source": [
    "kb1=kb.drop(['기준년도','기준년월'],axis=1) #기존의 년도와 월 컬럼 삭제\n"
   ]
  },
  {
   "cell_type": "code",
   "execution_count": 5,
   "metadata": {},
   "outputs": [],
   "source": [
    "kb1.columns\n",
    "kb1=kb1[['날짜','마케팅업종중분류명','마케팅업종세분류명','마케팅업종세세분류명', '성별구분', '연령대', '신용카드보유여부', '체크카드보유여부', '회원수', '매출건수']] #컬럼위치 재설정"
   ]
  },
  {
   "cell_type": "code",
   "execution_count": 6,
   "metadata": {},
   "outputs": [
    {
     "data": {
      "text/html": [
       "<div>\n",
       "<style scoped>\n",
       "    .dataframe tbody tr th:only-of-type {\n",
       "        vertical-align: middle;\n",
       "    }\n",
       "\n",
       "    .dataframe tbody tr th {\n",
       "        vertical-align: top;\n",
       "    }\n",
       "\n",
       "    .dataframe thead th {\n",
       "        text-align: right;\n",
       "    }\n",
       "</style>\n",
       "<table border=\"1\" class=\"dataframe\">\n",
       "  <thead>\n",
       "    <tr style=\"text-align: right;\">\n",
       "      <th></th>\n",
       "      <th>날짜</th>\n",
       "      <th>마케팅업종중분류명</th>\n",
       "      <th>마케팅업종세분류명</th>\n",
       "      <th>마케팅업종세세분류명</th>\n",
       "      <th>성별구분</th>\n",
       "      <th>연령대</th>\n",
       "      <th>신용카드보유여부</th>\n",
       "      <th>체크카드보유여부</th>\n",
       "      <th>회원수</th>\n",
       "      <th>매출건수</th>\n",
       "      <th>인당_매출건수</th>\n",
       "    </tr>\n",
       "  </thead>\n",
       "  <tbody>\n",
       "    <tr>\n",
       "      <th>0</th>\n",
       "      <td>2019-03</td>\n",
       "      <td>일식</td>\n",
       "      <td>해산물</td>\n",
       "      <td>일식전문점</td>\n",
       "      <td>01.남성</td>\n",
       "      <td>1.20대이하</td>\n",
       "      <td>0</td>\n",
       "      <td>1</td>\n",
       "      <td>19</td>\n",
       "      <td>23</td>\n",
       "      <td>1.21</td>\n",
       "    </tr>\n",
       "    <tr>\n",
       "      <th>1</th>\n",
       "      <td>2019-03</td>\n",
       "      <td>일식</td>\n",
       "      <td>해산물</td>\n",
       "      <td>일식전문점</td>\n",
       "      <td>01.남성</td>\n",
       "      <td>1.20대이하</td>\n",
       "      <td>1</td>\n",
       "      <td>0</td>\n",
       "      <td>3</td>\n",
       "      <td>3</td>\n",
       "      <td>1.00</td>\n",
       "    </tr>\n",
       "    <tr>\n",
       "      <th>2</th>\n",
       "      <td>2019-03</td>\n",
       "      <td>일식</td>\n",
       "      <td>해산물</td>\n",
       "      <td>일식전문점</td>\n",
       "      <td>01.남성</td>\n",
       "      <td>1.20대이하</td>\n",
       "      <td>1</td>\n",
       "      <td>1</td>\n",
       "      <td>19</td>\n",
       "      <td>20</td>\n",
       "      <td>1.05</td>\n",
       "    </tr>\n",
       "    <tr>\n",
       "      <th>3</th>\n",
       "      <td>2019-03</td>\n",
       "      <td>일식</td>\n",
       "      <td>해산물</td>\n",
       "      <td>일식전문점</td>\n",
       "      <td>01.남성</td>\n",
       "      <td>2.30대</td>\n",
       "      <td>0</td>\n",
       "      <td>1</td>\n",
       "      <td>15</td>\n",
       "      <td>19</td>\n",
       "      <td>1.27</td>\n",
       "    </tr>\n",
       "    <tr>\n",
       "      <th>4</th>\n",
       "      <td>2019-03</td>\n",
       "      <td>일식</td>\n",
       "      <td>해산물</td>\n",
       "      <td>일식전문점</td>\n",
       "      <td>01.남성</td>\n",
       "      <td>2.30대</td>\n",
       "      <td>1</td>\n",
       "      <td>0</td>\n",
       "      <td>18</td>\n",
       "      <td>20</td>\n",
       "      <td>1.11</td>\n",
       "    </tr>\n",
       "    <tr>\n",
       "      <th>...</th>\n",
       "      <td>...</td>\n",
       "      <td>...</td>\n",
       "      <td>...</td>\n",
       "      <td>...</td>\n",
       "      <td>...</td>\n",
       "      <td>...</td>\n",
       "      <td>...</td>\n",
       "      <td>...</td>\n",
       "      <td>...</td>\n",
       "      <td>...</td>\n",
       "      <td>...</td>\n",
       "    </tr>\n",
       "    <tr>\n",
       "      <th>129999</th>\n",
       "      <td>2021-03</td>\n",
       "      <td>한식</td>\n",
       "      <td>해산물</td>\n",
       "      <td>낙지/쭈꾸미전문점</td>\n",
       "      <td>01.남성</td>\n",
       "      <td>1.20대이하</td>\n",
       "      <td>0</td>\n",
       "      <td>1</td>\n",
       "      <td>16</td>\n",
       "      <td>19</td>\n",
       "      <td>1.19</td>\n",
       "    </tr>\n",
       "    <tr>\n",
       "      <th>130000</th>\n",
       "      <td>2021-03</td>\n",
       "      <td>한식</td>\n",
       "      <td>해산물</td>\n",
       "      <td>낙지/쭈꾸미전문점</td>\n",
       "      <td>01.남성</td>\n",
       "      <td>1.20대이하</td>\n",
       "      <td>1</td>\n",
       "      <td>1</td>\n",
       "      <td>13</td>\n",
       "      <td>13</td>\n",
       "      <td>1.00</td>\n",
       "    </tr>\n",
       "    <tr>\n",
       "      <th>130001</th>\n",
       "      <td>2021-03</td>\n",
       "      <td>한식</td>\n",
       "      <td>해산물</td>\n",
       "      <td>낙지/쭈꾸미전문점</td>\n",
       "      <td>01.남성</td>\n",
       "      <td>2.30대</td>\n",
       "      <td>0</td>\n",
       "      <td>1</td>\n",
       "      <td>8</td>\n",
       "      <td>9</td>\n",
       "      <td>1.12</td>\n",
       "    </tr>\n",
       "    <tr>\n",
       "      <th>130002</th>\n",
       "      <td>2021-03</td>\n",
       "      <td>한식</td>\n",
       "      <td>해산물</td>\n",
       "      <td>낙지/쭈꾸미전문점</td>\n",
       "      <td>01.남성</td>\n",
       "      <td>2.30대</td>\n",
       "      <td>1</td>\n",
       "      <td>0</td>\n",
       "      <td>4</td>\n",
       "      <td>4</td>\n",
       "      <td>1.00</td>\n",
       "    </tr>\n",
       "    <tr>\n",
       "      <th>130003</th>\n",
       "      <td>2021-03</td>\n",
       "      <td>한식</td>\n",
       "      <td>해산물</td>\n",
       "      <td>낙지/쭈꾸미전문점</td>\n",
       "      <td>01.남성</td>\n",
       "      <td>2.30대</td>\n",
       "      <td>1</td>\n",
       "      <td>1</td>\n",
       "      <td>31</td>\n",
       "      <td>37</td>\n",
       "      <td>1.19</td>\n",
       "    </tr>\n",
       "  </tbody>\n",
       "</table>\n",
       "<p>130004 rows × 11 columns</p>\n",
       "</div>"
      ],
      "text/plain": [
       "             날짜 마케팅업종중분류명 마케팅업종세분류명 마케팅업종세세분류명   성별구분      연령대  신용카드보유여부  \\\n",
       "0       2019-03        일식       해산물      일식전문점  01.남성  1.20대이하         0   \n",
       "1       2019-03        일식       해산물      일식전문점  01.남성  1.20대이하         1   \n",
       "2       2019-03        일식       해산물      일식전문점  01.남성  1.20대이하         1   \n",
       "3       2019-03        일식       해산물      일식전문점  01.남성    2.30대         0   \n",
       "4       2019-03        일식       해산물      일식전문점  01.남성    2.30대         1   \n",
       "...         ...       ...       ...        ...    ...      ...       ...   \n",
       "129999  2021-03        한식       해산물  낙지/쭈꾸미전문점  01.남성  1.20대이하         0   \n",
       "130000  2021-03        한식       해산물  낙지/쭈꾸미전문점  01.남성  1.20대이하         1   \n",
       "130001  2021-03        한식       해산물  낙지/쭈꾸미전문점  01.남성    2.30대         0   \n",
       "130002  2021-03        한식       해산물  낙지/쭈꾸미전문점  01.남성    2.30대         1   \n",
       "130003  2021-03        한식       해산물  낙지/쭈꾸미전문점  01.남성    2.30대         1   \n",
       "\n",
       "        체크카드보유여부  회원수  매출건수  인당_매출건수  \n",
       "0              1   19    23     1.21  \n",
       "1              0    3     3     1.00  \n",
       "2              1   19    20     1.05  \n",
       "3              1   15    19     1.27  \n",
       "4              0   18    20     1.11  \n",
       "...          ...  ...   ...      ...  \n",
       "129999         1   16    19     1.19  \n",
       "130000         1   13    13     1.00  \n",
       "130001         1    8     9     1.12  \n",
       "130002         0    4     4     1.00  \n",
       "130003         1   31    37     1.19  \n",
       "\n",
       "[130004 rows x 11 columns]"
      ]
     },
     "execution_count": 6,
     "metadata": {},
     "output_type": "execute_result"
    }
   ],
   "source": [
    "kb1['인당_매출건수']=round(kb['매출건수']/kb1['회원수'],2) #인당 매출건수출력\n",
    "kb1"
   ]
  },
  {
   "cell_type": "code",
   "execution_count": 7,
   "metadata": {},
   "outputs": [],
   "source": [
    "kb1.연령대=kb1.연령대.map(lambda x: 0 if x =='1.20대이하' else 1) #20대- 0 30대 -1"
   ]
  },
  {
   "cell_type": "code",
   "execution_count": 22,
   "metadata": {},
   "outputs": [
    {
     "name": "stderr",
     "output_type": "stream",
     "text": [
      "<ipython-input-22-d36dafe58a97>:8: SettingWithCopyWarning: \n",
      "A value is trying to be set on a copy of a slice from a DataFrame.\n",
      "Try using .loc[row_indexer,col_indexer] = value instead\n",
      "\n",
      "See the caveats in the documentation: https://pandas.pydata.org/pandas-docs/stable/user_guide/indexing.html#returning-a-view-versus-a-copy\n",
      "  df['카드보유형태']=a+b\n"
     ]
    },
    {
     "data": {
      "text/html": [
       "<div>\n",
       "<style scoped>\n",
       "    .dataframe tbody tr th:only-of-type {\n",
       "        vertical-align: middle;\n",
       "    }\n",
       "\n",
       "    .dataframe tbody tr th {\n",
       "        vertical-align: top;\n",
       "    }\n",
       "\n",
       "    .dataframe thead th {\n",
       "        text-align: right;\n",
       "    }\n",
       "</style>\n",
       "<table border=\"1\" class=\"dataframe\">\n",
       "  <thead>\n",
       "    <tr style=\"text-align: right;\">\n",
       "      <th></th>\n",
       "      <th>신용카드보유여부</th>\n",
       "      <th>체크카드보유여부</th>\n",
       "      <th>카드보유형태</th>\n",
       "    </tr>\n",
       "  </thead>\n",
       "  <tbody>\n",
       "    <tr>\n",
       "      <th>0</th>\n",
       "      <td>0</td>\n",
       "      <td>1</td>\n",
       "      <td>2</td>\n",
       "    </tr>\n",
       "    <tr>\n",
       "      <th>1</th>\n",
       "      <td>1</td>\n",
       "      <td>0</td>\n",
       "      <td>1</td>\n",
       "    </tr>\n",
       "    <tr>\n",
       "      <th>2</th>\n",
       "      <td>1</td>\n",
       "      <td>1</td>\n",
       "      <td>3</td>\n",
       "    </tr>\n",
       "    <tr>\n",
       "      <th>3</th>\n",
       "      <td>0</td>\n",
       "      <td>1</td>\n",
       "      <td>2</td>\n",
       "    </tr>\n",
       "    <tr>\n",
       "      <th>4</th>\n",
       "      <td>1</td>\n",
       "      <td>0</td>\n",
       "      <td>1</td>\n",
       "    </tr>\n",
       "    <tr>\n",
       "      <th>...</th>\n",
       "      <td>...</td>\n",
       "      <td>...</td>\n",
       "      <td>...</td>\n",
       "    </tr>\n",
       "    <tr>\n",
       "      <th>129999</th>\n",
       "      <td>0</td>\n",
       "      <td>1</td>\n",
       "      <td>2</td>\n",
       "    </tr>\n",
       "    <tr>\n",
       "      <th>130000</th>\n",
       "      <td>1</td>\n",
       "      <td>1</td>\n",
       "      <td>3</td>\n",
       "    </tr>\n",
       "    <tr>\n",
       "      <th>130001</th>\n",
       "      <td>0</td>\n",
       "      <td>1</td>\n",
       "      <td>2</td>\n",
       "    </tr>\n",
       "    <tr>\n",
       "      <th>130002</th>\n",
       "      <td>1</td>\n",
       "      <td>0</td>\n",
       "      <td>1</td>\n",
       "    </tr>\n",
       "    <tr>\n",
       "      <th>130003</th>\n",
       "      <td>1</td>\n",
       "      <td>1</td>\n",
       "      <td>3</td>\n",
       "    </tr>\n",
       "  </tbody>\n",
       "</table>\n",
       "<p>130004 rows × 3 columns</p>\n",
       "</div>"
      ],
      "text/plain": [
       "        신용카드보유여부  체크카드보유여부  카드보유형태\n",
       "0              0         1       2\n",
       "1              1         0       1\n",
       "2              1         1       3\n",
       "3              0         1       2\n",
       "4              1         0       1\n",
       "...          ...       ...     ...\n",
       "129999         0         1       2\n",
       "130000         1         1       3\n",
       "130001         0         1       2\n",
       "130002         1         0       1\n",
       "130003         1         1       3\n",
       "\n",
       "[130004 rows x 3 columns]"
      ]
     },
     "execution_count": 22,
     "metadata": {},
     "output_type": "execute_result"
    }
   ],
   "source": [
    "df= kb1[['신용카드보유여부','체크카드보유여부']]\n",
    "\n",
    "a=kb1['신용카드보유여부']\n",
    "b=kb1.loc[:,'체크카드보유여부'].apply(lambda x: 2 if x==1 else 0)\n",
    "\n",
    "\n",
    "\n",
    "df['카드보유형태']=a+b\n",
    "\n",
    "df"
   ]
  },
  {
   "cell_type": "code",
   "execution_count": 24,
   "metadata": {},
   "outputs": [],
   "source": [
    "kb2=pd.concat([kb1,df.카드보유형태],axis=1) # 1- 신용카드만 보유 2-체크카드만 보유 3- 둘다 보유\n",
    "\n",
    "kb2.drop(['신용카드보유여부','체크카드보유여부'],axis=1,inplace=True) #기존 신용카드 보유 여부 칼럼 삭제\n",
    "\n",
    "\n",
    "kb2['성별구분']=kb2['성별구분'].map(lambda x: 0 if x=='01.남성' else 1)"
   ]
  },
  {
   "cell_type": "code",
   "execution_count": 23,
   "metadata": {},
   "outputs": [
    {
     "data": {
      "text/html": [
       "<div>\n",
       "<style scoped>\n",
       "    .dataframe tbody tr th:only-of-type {\n",
       "        vertical-align: middle;\n",
       "    }\n",
       "\n",
       "    .dataframe tbody tr th {\n",
       "        vertical-align: top;\n",
       "    }\n",
       "\n",
       "    .dataframe thead th {\n",
       "        text-align: right;\n",
       "    }\n",
       "</style>\n",
       "<table border=\"1\" class=\"dataframe\">\n",
       "  <thead>\n",
       "    <tr style=\"text-align: right;\">\n",
       "      <th></th>\n",
       "      <th>날짜</th>\n",
       "      <th>마케팅업종중분류명</th>\n",
       "      <th>마케팅업종세분류명</th>\n",
       "      <th>성별구분</th>\n",
       "      <th>연령대</th>\n",
       "      <th>회원수</th>\n",
       "      <th>매출건수</th>\n",
       "      <th>인당_매출건수</th>\n",
       "      <th>카드보유형태</th>\n",
       "    </tr>\n",
       "  </thead>\n",
       "  <tbody>\n",
       "    <tr>\n",
       "      <th>0</th>\n",
       "      <td>2019-03</td>\n",
       "      <td>1</td>\n",
       "      <td>8</td>\n",
       "      <td>0</td>\n",
       "      <td>0</td>\n",
       "      <td>19</td>\n",
       "      <td>23</td>\n",
       "      <td>1.21</td>\n",
       "      <td>2</td>\n",
       "    </tr>\n",
       "    <tr>\n",
       "      <th>1</th>\n",
       "      <td>2019-03</td>\n",
       "      <td>1</td>\n",
       "      <td>8</td>\n",
       "      <td>0</td>\n",
       "      <td>0</td>\n",
       "      <td>3</td>\n",
       "      <td>3</td>\n",
       "      <td>1.00</td>\n",
       "      <td>1</td>\n",
       "    </tr>\n",
       "    <tr>\n",
       "      <th>2</th>\n",
       "      <td>2019-03</td>\n",
       "      <td>1</td>\n",
       "      <td>8</td>\n",
       "      <td>0</td>\n",
       "      <td>0</td>\n",
       "      <td>19</td>\n",
       "      <td>20</td>\n",
       "      <td>1.05</td>\n",
       "      <td>3</td>\n",
       "    </tr>\n",
       "    <tr>\n",
       "      <th>3</th>\n",
       "      <td>2019-03</td>\n",
       "      <td>1</td>\n",
       "      <td>8</td>\n",
       "      <td>0</td>\n",
       "      <td>1</td>\n",
       "      <td>15</td>\n",
       "      <td>19</td>\n",
       "      <td>1.27</td>\n",
       "      <td>2</td>\n",
       "    </tr>\n",
       "    <tr>\n",
       "      <th>4</th>\n",
       "      <td>2019-03</td>\n",
       "      <td>1</td>\n",
       "      <td>8</td>\n",
       "      <td>0</td>\n",
       "      <td>1</td>\n",
       "      <td>18</td>\n",
       "      <td>20</td>\n",
       "      <td>1.11</td>\n",
       "      <td>1</td>\n",
       "    </tr>\n",
       "    <tr>\n",
       "      <th>...</th>\n",
       "      <td>...</td>\n",
       "      <td>...</td>\n",
       "      <td>...</td>\n",
       "      <td>...</td>\n",
       "      <td>...</td>\n",
       "      <td>...</td>\n",
       "      <td>...</td>\n",
       "      <td>...</td>\n",
       "      <td>...</td>\n",
       "    </tr>\n",
       "    <tr>\n",
       "      <th>129999</th>\n",
       "      <td>2021-03</td>\n",
       "      <td>2</td>\n",
       "      <td>8</td>\n",
       "      <td>0</td>\n",
       "      <td>0</td>\n",
       "      <td>16</td>\n",
       "      <td>19</td>\n",
       "      <td>1.19</td>\n",
       "      <td>2</td>\n",
       "    </tr>\n",
       "    <tr>\n",
       "      <th>130000</th>\n",
       "      <td>2021-03</td>\n",
       "      <td>2</td>\n",
       "      <td>8</td>\n",
       "      <td>0</td>\n",
       "      <td>0</td>\n",
       "      <td>13</td>\n",
       "      <td>13</td>\n",
       "      <td>1.00</td>\n",
       "      <td>3</td>\n",
       "    </tr>\n",
       "    <tr>\n",
       "      <th>130001</th>\n",
       "      <td>2021-03</td>\n",
       "      <td>2</td>\n",
       "      <td>8</td>\n",
       "      <td>0</td>\n",
       "      <td>1</td>\n",
       "      <td>8</td>\n",
       "      <td>9</td>\n",
       "      <td>1.12</td>\n",
       "      <td>2</td>\n",
       "    </tr>\n",
       "    <tr>\n",
       "      <th>130002</th>\n",
       "      <td>2021-03</td>\n",
       "      <td>2</td>\n",
       "      <td>8</td>\n",
       "      <td>0</td>\n",
       "      <td>1</td>\n",
       "      <td>4</td>\n",
       "      <td>4</td>\n",
       "      <td>1.00</td>\n",
       "      <td>1</td>\n",
       "    </tr>\n",
       "    <tr>\n",
       "      <th>130003</th>\n",
       "      <td>2021-03</td>\n",
       "      <td>2</td>\n",
       "      <td>8</td>\n",
       "      <td>0</td>\n",
       "      <td>1</td>\n",
       "      <td>31</td>\n",
       "      <td>37</td>\n",
       "      <td>1.19</td>\n",
       "      <td>3</td>\n",
       "    </tr>\n",
       "  </tbody>\n",
       "</table>\n",
       "<p>130004 rows × 9 columns</p>\n",
       "</div>"
      ],
      "text/plain": [
       "             날짜  마케팅업종중분류명  마케팅업종세분류명  성별구분  연령대  회원수  매출건수  인당_매출건수  카드보유형태\n",
       "0       2019-03          1          8     0    0   19    23     1.21       2\n",
       "1       2019-03          1          8     0    0    3     3     1.00       1\n",
       "2       2019-03          1          8     0    0   19    20     1.05       3\n",
       "3       2019-03          1          8     0    1   15    19     1.27       2\n",
       "4       2019-03          1          8     0    1   18    20     1.11       1\n",
       "...         ...        ...        ...   ...  ...  ...   ...      ...     ...\n",
       "129999  2021-03          2          8     0    0   16    19     1.19       2\n",
       "130000  2021-03          2          8     0    0   13    13     1.00       3\n",
       "130001  2021-03          2          8     0    1    8     9     1.12       2\n",
       "130002  2021-03          2          8     0    1    4     4     1.00       1\n",
       "130003  2021-03          2          8     0    1   31    37     1.19       3\n",
       "\n",
       "[130004 rows x 9 columns]"
      ]
     },
     "execution_count": 23,
     "metadata": {},
     "output_type": "execute_result"
    }
   ],
   "source": [
    "from sklearn.preprocessing import LabelEncoder\n",
    "\n",
    "le=LabelEncoder()\n",
    "\n",
    "kb3=kb2.copy()\n",
    "\n",
    "\n",
    "kb3.마케팅업종중분류명=le.fit_transform(kb3.마케팅업종중분류명)\n",
    "\n",
    "kb3.마케팅업종세분류명=le.fit_transform(kb3.마케팅업종세분류명)\n",
    "\n",
    "kb3.drop(['마케팅업종세세분류명'],axis=1,inplace=True)\n",
    "\n",
    "kb3"
   ]
  },
  {
   "cell_type": "code",
   "execution_count": 25,
   "metadata": {
    "scrolled": true
   },
   "outputs": [
    {
     "data": {
      "text/html": [
       "<div>\n",
       "<style scoped>\n",
       "    .dataframe tbody tr th:only-of-type {\n",
       "        vertical-align: middle;\n",
       "    }\n",
       "\n",
       "    .dataframe tbody tr th {\n",
       "        vertical-align: top;\n",
       "    }\n",
       "\n",
       "    .dataframe thead th {\n",
       "        text-align: right;\n",
       "    }\n",
       "</style>\n",
       "<table border=\"1\" class=\"dataframe\">\n",
       "  <thead>\n",
       "    <tr style=\"text-align: right;\">\n",
       "      <th></th>\n",
       "      <th>날짜</th>\n",
       "      <th>마케팅업종중분류명</th>\n",
       "      <th>마케팅업종세분류명</th>\n",
       "      <th>성별구분</th>\n",
       "      <th>연령대</th>\n",
       "      <th>회원수</th>\n",
       "      <th>매출건수</th>\n",
       "      <th>인당_매출건수</th>\n",
       "      <th>카드보유형태</th>\n",
       "    </tr>\n",
       "  </thead>\n",
       "  <tbody>\n",
       "    <tr>\n",
       "      <th>0</th>\n",
       "      <td>2019-03</td>\n",
       "      <td>1</td>\n",
       "      <td>8</td>\n",
       "      <td>0</td>\n",
       "      <td>0</td>\n",
       "      <td>19</td>\n",
       "      <td>23</td>\n",
       "      <td>1.21</td>\n",
       "      <td>2</td>\n",
       "    </tr>\n",
       "    <tr>\n",
       "      <th>1</th>\n",
       "      <td>2019-03</td>\n",
       "      <td>1</td>\n",
       "      <td>8</td>\n",
       "      <td>0</td>\n",
       "      <td>0</td>\n",
       "      <td>3</td>\n",
       "      <td>3</td>\n",
       "      <td>1.00</td>\n",
       "      <td>1</td>\n",
       "    </tr>\n",
       "    <tr>\n",
       "      <th>2</th>\n",
       "      <td>2019-03</td>\n",
       "      <td>1</td>\n",
       "      <td>8</td>\n",
       "      <td>0</td>\n",
       "      <td>0</td>\n",
       "      <td>19</td>\n",
       "      <td>20</td>\n",
       "      <td>1.05</td>\n",
       "      <td>3</td>\n",
       "    </tr>\n",
       "    <tr>\n",
       "      <th>3</th>\n",
       "      <td>2019-03</td>\n",
       "      <td>1</td>\n",
       "      <td>8</td>\n",
       "      <td>0</td>\n",
       "      <td>1</td>\n",
       "      <td>15</td>\n",
       "      <td>19</td>\n",
       "      <td>1.27</td>\n",
       "      <td>2</td>\n",
       "    </tr>\n",
       "    <tr>\n",
       "      <th>4</th>\n",
       "      <td>2019-03</td>\n",
       "      <td>1</td>\n",
       "      <td>8</td>\n",
       "      <td>0</td>\n",
       "      <td>1</td>\n",
       "      <td>18</td>\n",
       "      <td>20</td>\n",
       "      <td>1.11</td>\n",
       "      <td>1</td>\n",
       "    </tr>\n",
       "    <tr>\n",
       "      <th>...</th>\n",
       "      <td>...</td>\n",
       "      <td>...</td>\n",
       "      <td>...</td>\n",
       "      <td>...</td>\n",
       "      <td>...</td>\n",
       "      <td>...</td>\n",
       "      <td>...</td>\n",
       "      <td>...</td>\n",
       "      <td>...</td>\n",
       "    </tr>\n",
       "    <tr>\n",
       "      <th>129999</th>\n",
       "      <td>2021-03</td>\n",
       "      <td>2</td>\n",
       "      <td>8</td>\n",
       "      <td>0</td>\n",
       "      <td>0</td>\n",
       "      <td>16</td>\n",
       "      <td>19</td>\n",
       "      <td>1.19</td>\n",
       "      <td>2</td>\n",
       "    </tr>\n",
       "    <tr>\n",
       "      <th>130000</th>\n",
       "      <td>2021-03</td>\n",
       "      <td>2</td>\n",
       "      <td>8</td>\n",
       "      <td>0</td>\n",
       "      <td>0</td>\n",
       "      <td>13</td>\n",
       "      <td>13</td>\n",
       "      <td>1.00</td>\n",
       "      <td>3</td>\n",
       "    </tr>\n",
       "    <tr>\n",
       "      <th>130001</th>\n",
       "      <td>2021-03</td>\n",
       "      <td>2</td>\n",
       "      <td>8</td>\n",
       "      <td>0</td>\n",
       "      <td>1</td>\n",
       "      <td>8</td>\n",
       "      <td>9</td>\n",
       "      <td>1.12</td>\n",
       "      <td>2</td>\n",
       "    </tr>\n",
       "    <tr>\n",
       "      <th>130002</th>\n",
       "      <td>2021-03</td>\n",
       "      <td>2</td>\n",
       "      <td>8</td>\n",
       "      <td>0</td>\n",
       "      <td>1</td>\n",
       "      <td>4</td>\n",
       "      <td>4</td>\n",
       "      <td>1.00</td>\n",
       "      <td>1</td>\n",
       "    </tr>\n",
       "    <tr>\n",
       "      <th>130003</th>\n",
       "      <td>2021-03</td>\n",
       "      <td>2</td>\n",
       "      <td>8</td>\n",
       "      <td>0</td>\n",
       "      <td>1</td>\n",
       "      <td>31</td>\n",
       "      <td>37</td>\n",
       "      <td>1.19</td>\n",
       "      <td>3</td>\n",
       "    </tr>\n",
       "  </tbody>\n",
       "</table>\n",
       "<p>130004 rows × 9 columns</p>\n",
       "</div>"
      ],
      "text/plain": [
       "             날짜  마케팅업종중분류명  마케팅업종세분류명  성별구분  연령대  회원수  매출건수  인당_매출건수  카드보유형태\n",
       "0       2019-03          1          8     0    0   19    23     1.21       2\n",
       "1       2019-03          1          8     0    0    3     3     1.00       1\n",
       "2       2019-03          1          8     0    0   19    20     1.05       3\n",
       "3       2019-03          1          8     0    1   15    19     1.27       2\n",
       "4       2019-03          1          8     0    1   18    20     1.11       1\n",
       "...         ...        ...        ...   ...  ...  ...   ...      ...     ...\n",
       "129999  2021-03          2          8     0    0   16    19     1.19       2\n",
       "130000  2021-03          2          8     0    0   13    13     1.00       3\n",
       "130001  2021-03          2          8     0    1    8     9     1.12       2\n",
       "130002  2021-03          2          8     0    1    4     4     1.00       1\n",
       "130003  2021-03          2          8     0    1   31    37     1.19       3\n",
       "\n",
       "[130004 rows x 9 columns]"
      ]
     },
     "execution_count": 25,
     "metadata": {},
     "output_type": "execute_result"
    }
   ],
   "source": [
    "kb3"
   ]
  },
  {
   "cell_type": "code",
   "execution_count": 26,
   "metadata": {},
   "outputs": [],
   "source": [
    "x=kb3[['마케팅업종중분류명','마케팅업종세분류명','성별구분','회원수','매출건수','인당_매출건수','카드보유형태']]\n",
    "y=kb3['연령대']"
   ]
  },
  {
   "cell_type": "code",
   "execution_count": 27,
   "metadata": {},
   "outputs": [],
   "source": [
    "from sklearn.model_selection import train_test_split\n",
    "\n",
    "x_train,x_test,y_train,y_test = train_test_split(x,y,test_size=0.2,random_state=1,stratify=y)"
   ]
  },
  {
   "cell_type": "code",
   "execution_count": 28,
   "metadata": {},
   "outputs": [
    {
     "data": {
      "text/plain": [
       "RandomForestClassifier(n_estimators=200, random_state=1)"
      ]
     },
     "execution_count": 28,
     "metadata": {},
     "output_type": "execute_result"
    }
   ],
   "source": [
    "from sklearn.ensemble import RandomForestClassifier\n",
    "\n",
    "model=RandomForestClassifier(n_estimators=200,random_state=1)\n",
    "\n",
    "model.fit(x_train,y_train)"
   ]
  },
  {
   "cell_type": "code",
   "execution_count": 29,
   "metadata": {},
   "outputs": [
    {
     "name": "stdout",
     "output_type": "stream",
     "text": [
      "훈련 세트 정확도 : 0.802\n",
      "테스트 세트 정확도:0.615\n"
     ]
    }
   ],
   "source": [
    "print('훈련 세트 정확도 : {:.3f}'.format(model.score(x_train,y_train)))\n",
    "print('테스트 세트 정확도:{:.3f}'.format(model.score(x_test,y_test)))"
   ]
  },
  {
   "cell_type": "code",
   "execution_count": 30,
   "metadata": {
    "scrolled": true
   },
   "outputs": [
    {
     "data": {
      "text/plain": [
       "array([0.02975756, 0.12321088, 0.02561628, 0.26040891, 0.26702692,\n",
       "       0.20897522, 0.08500423])"
      ]
     },
     "execution_count": 30,
     "metadata": {},
     "output_type": "execute_result"
    }
   ],
   "source": [
    "model.feature_importances_"
   ]
  },
  {
   "cell_type": "code",
   "execution_count": 31,
   "metadata": {
    "scrolled": true
   },
   "outputs": [],
   "source": [
    "Z=kb3.loc[kb3['연령대']==0,]\n",
    "M=kb3.loc[kb3['연령대']==1,]"
   ]
  },
  {
   "cell_type": "code",
   "execution_count": 32,
   "metadata": {
    "scrolled": false
   },
   "outputs": [
    {
     "data": {
      "image/png": "[encoded data removed]",
      "text/plain": [
       "<Figure size 1440x504 with 1 Axes>"
      ]
     },
     "metadata": {},
     "output_type": "display_data"
    }
   ],
   "source": [
    "import matplotlib.pyplot as plt\n",
    "import numpy as np\n",
    "import matplotlib.font_manager as fonm\n",
    "plt.rcParams['font.family']='Malgun Gothic'\n",
    "\n",
    "\n",
    "fig=plt.figure(figsize=(20,7))\n",
    "fig.set_facecolor('white')#배경색\n",
    "ax=fig.add_subplot() #프레임 생성\n",
    "\n",
    "\n",
    "\n",
    "y1=Z.groupby('날짜')['매출건수'].sum()\n",
    "y2=M.groupby('날짜')['매출건수'].sum()\n",
    "\n",
    "x=np.arange(0,25)\n",
    "xlab=kb3['날짜'].unique()\n",
    "\n",
    "\n",
    "ax.plot(x,y1,label='20대')\n",
    "ax.plot(x,y2,label='30대')\n",
    "\n",
    "\n",
    "ax.legend()#범례\n",
    "plt.xticks(x,xlab)\n",
    "plt.xlabel('날짜')\n",
    "plt.ylabel('인당_매출건수')\n",
    "plt.title('연령대별(20~30대) 매출건수')\n",
    "plt.show()"
   ]
  },
  {
   "cell_type": "code",
   "execution_count": 33,
   "metadata": {
    "scrolled": false
   },
   "outputs": [
    {
     "data": {
      "text/html": [
       "<div>\n",
       "<style scoped>\n",
       "    .dataframe tbody tr th:only-of-type {\n",
       "        vertical-align: middle;\n",
       "    }\n",
       "\n",
       "    .dataframe tbody tr th {\n",
       "        vertical-align: top;\n",
       "    }\n",
       "\n",
       "    .dataframe thead th {\n",
       "        text-align: right;\n",
       "    }\n",
       "</style>\n",
       "<table border=\"1\" class=\"dataframe\">\n",
       "  <thead>\n",
       "    <tr style=\"text-align: right;\">\n",
       "      <th></th>\n",
       "      <th>날짜</th>\n",
       "      <th>마케팅업종중분류명</th>\n",
       "      <th>마케팅업종세분류명</th>\n",
       "      <th>성별구분</th>\n",
       "      <th>연령대</th>\n",
       "      <th>회원수</th>\n",
       "      <th>매출건수</th>\n",
       "      <th>인당_매출건수</th>\n",
       "      <th>카드보유형태</th>\n",
       "    </tr>\n",
       "  </thead>\n",
       "  <tbody>\n",
       "    <tr>\n",
       "      <th>0</th>\n",
       "      <td>2019-03</td>\n",
       "      <td>1</td>\n",
       "      <td>8</td>\n",
       "      <td>0</td>\n",
       "      <td>0</td>\n",
       "      <td>19</td>\n",
       "      <td>23</td>\n",
       "      <td>1.21</td>\n",
       "      <td>2</td>\n",
       "    </tr>\n",
       "    <tr>\n",
       "      <th>1</th>\n",
       "      <td>2019-03</td>\n",
       "      <td>1</td>\n",
       "      <td>8</td>\n",
       "      <td>0</td>\n",
       "      <td>0</td>\n",
       "      <td>3</td>\n",
       "      <td>3</td>\n",
       "      <td>1.00</td>\n",
       "      <td>1</td>\n",
       "    </tr>\n",
       "    <tr>\n",
       "      <th>2</th>\n",
       "      <td>2019-03</td>\n",
       "      <td>1</td>\n",
       "      <td>8</td>\n",
       "      <td>0</td>\n",
       "      <td>0</td>\n",
       "      <td>19</td>\n",
       "      <td>20</td>\n",
       "      <td>1.05</td>\n",
       "      <td>3</td>\n",
       "    </tr>\n",
       "    <tr>\n",
       "      <th>3</th>\n",
       "      <td>2019-03</td>\n",
       "      <td>1</td>\n",
       "      <td>8</td>\n",
       "      <td>0</td>\n",
       "      <td>1</td>\n",
       "      <td>15</td>\n",
       "      <td>19</td>\n",
       "      <td>1.27</td>\n",
       "      <td>2</td>\n",
       "    </tr>\n",
       "    <tr>\n",
       "      <th>4</th>\n",
       "      <td>2019-03</td>\n",
       "      <td>1</td>\n",
       "      <td>8</td>\n",
       "      <td>0</td>\n",
       "      <td>1</td>\n",
       "      <td>18</td>\n",
       "      <td>20</td>\n",
       "      <td>1.11</td>\n",
       "      <td>1</td>\n",
       "    </tr>\n",
       "    <tr>\n",
       "      <th>...</th>\n",
       "      <td>...</td>\n",
       "      <td>...</td>\n",
       "      <td>...</td>\n",
       "      <td>...</td>\n",
       "      <td>...</td>\n",
       "      <td>...</td>\n",
       "      <td>...</td>\n",
       "      <td>...</td>\n",
       "      <td>...</td>\n",
       "    </tr>\n",
       "    <tr>\n",
       "      <th>129999</th>\n",
       "      <td>2021-03</td>\n",
       "      <td>2</td>\n",
       "      <td>8</td>\n",
       "      <td>0</td>\n",
       "      <td>0</td>\n",
       "      <td>16</td>\n",
       "      <td>19</td>\n",
       "      <td>1.19</td>\n",
       "      <td>2</td>\n",
       "    </tr>\n",
       "    <tr>\n",
       "      <th>130000</th>\n",
       "      <td>2021-03</td>\n",
       "      <td>2</td>\n",
       "      <td>8</td>\n",
       "      <td>0</td>\n",
       "      <td>0</td>\n",
       "      <td>13</td>\n",
       "      <td>13</td>\n",
       "      <td>1.00</td>\n",
       "      <td>3</td>\n",
       "    </tr>\n",
       "    <tr>\n",
       "      <th>130001</th>\n",
       "      <td>2021-03</td>\n",
       "      <td>2</td>\n",
       "      <td>8</td>\n",
       "      <td>0</td>\n",
       "      <td>1</td>\n",
       "      <td>8</td>\n",
       "      <td>9</td>\n",
       "      <td>1.12</td>\n",
       "      <td>2</td>\n",
       "    </tr>\n",
       "    <tr>\n",
       "      <th>130002</th>\n",
       "      <td>2021-03</td>\n",
       "      <td>2</td>\n",
       "      <td>8</td>\n",
       "      <td>0</td>\n",
       "      <td>1</td>\n",
       "      <td>4</td>\n",
       "      <td>4</td>\n",
       "      <td>1.00</td>\n",
       "      <td>1</td>\n",
       "    </tr>\n",
       "    <tr>\n",
       "      <th>130003</th>\n",
       "      <td>2021-03</td>\n",
       "      <td>2</td>\n",
       "      <td>8</td>\n",
       "      <td>0</td>\n",
       "      <td>1</td>\n",
       "      <td>31</td>\n",
       "      <td>37</td>\n",
       "      <td>1.19</td>\n",
       "      <td>3</td>\n",
       "    </tr>\n",
       "  </tbody>\n",
       "</table>\n",
       "<p>130004 rows × 9 columns</p>\n",
       "</div>"
      ],
      "text/plain": [
       "             날짜  마케팅업종중분류명  마케팅업종세분류명  성별구분  연령대  회원수  매출건수  인당_매출건수  카드보유형태\n",
       "0       2019-03          1          8     0    0   19    23     1.21       2\n",
       "1       2019-03          1          8     0    0    3     3     1.00       1\n",
       "2       2019-03          1          8     0    0   19    20     1.05       3\n",
       "3       2019-03          1          8     0    1   15    19     1.27       2\n",
       "4       2019-03          1          8     0    1   18    20     1.11       1\n",
       "...         ...        ...        ...   ...  ...  ...   ...      ...     ...\n",
       "129999  2021-03          2          8     0    0   16    19     1.19       2\n",
       "130000  2021-03          2          8     0    0   13    13     1.00       3\n",
       "130001  2021-03          2          8     0    1    8     9     1.12       2\n",
       "130002  2021-03          2          8     0    1    4     4     1.00       1\n",
       "130003  2021-03          2          8     0    1   31    37     1.19       3\n",
       "\n",
       "[130004 rows x 9 columns]"
      ]
     },
     "execution_count": 33,
     "metadata": {},
     "output_type": "execute_result"
    }
   ],
   "source": [
    "kb4=kb3.copy()\n",
    "kb4"
   ]
  },
  {
   "cell_type": "code",
   "execution_count": 38,
   "metadata": {},
   "outputs": [],
   "source": [
    "kb4.날짜.astype(str)\n",
    "\n",
    "kb4.날짜=le.fit_transform(kb4['날짜'])"
   ]
  },
  {
   "cell_type": "code",
   "execution_count": 41,
   "metadata": {
    "scrolled": false
   },
   "outputs": [],
   "source": [
    "mask1=kb4.날짜.between(0,3)\n",
    "mask2=kb4.날짜.between(4,6)\n",
    "mask3=kb4.날짜.between(7,9)\n",
    "mask4=kb4.날짜.between(10,12)\n",
    "mask5=kb4.날짜.between(13,15)\n",
    "mask6=kb4.날짜.between(16,18)\n",
    "mask7=kb4.날짜.between(19,21)\n",
    "mask8=kb4.날짜.between(22,24)"
   ]
  },
  {
   "cell_type": "code",
   "execution_count": 44,
   "metadata": {},
   "outputs": [],
   "source": [
    "kb4.loc[mask1,'날짜']=0\n",
    "kb4.loc[mask2,'날짜']=1\n",
    "kb4.loc[mask3,'날짜']=2\n",
    "kb4.loc[mask4,'날짜']=3\n",
    "kb4.loc[mask5,'날짜']=4\n",
    "kb4.loc[mask6,'날짜']=5\n",
    "kb4.loc[mask7,'날짜']=6\n",
    "kb4.loc[mask8,'날짜']=7"
   ]
  },
  {
   "cell_type": "code",
   "execution_count": 45,
   "metadata": {},
   "outputs": [],
   "source": [
    "kb5=kb4.copy()"
   ]
  },
  {
   "cell_type": "code",
   "execution_count": 46,
   "metadata": {
    "scrolled": true
   },
   "outputs": [
    {
     "name": "stderr",
     "output_type": "stream",
     "text": [
      "C:\\Users\\wanw9\\anaconda3\\lib\\site-packages\\matplotlib\\backends\\backend_agg.py:238: RuntimeWarning: Glyph 8722 missing from current font.\n",
      "  font.set_text(s, 0.0, flags=flags)\n",
      "C:\\Users\\wanw9\\anaconda3\\lib\\site-packages\\matplotlib\\backends\\backend_agg.py:201: RuntimeWarning: Glyph 8722 missing from current font.\n",
      "  font.set_text(s, 0, flags=flags)\n"
     ]
    },
    {
     "data": {
      "image/png": "[encoded data removed]",
      "text/plain": [
       "<Figure size 1152x648 with 2 Axes>"
      ]
     },
     "metadata": {
      "needs_background": "light"
     },
     "output_type": "display_data"
    }
   ],
   "source": [
    "import seaborn as sns\n",
    "\n",
    "plt.figure(figsize=(16,9))\n",
    "sns.heatmap(kb5.corr(),cmap='summer',annot=True,fmt=\"0.1f\")\n",
    "plt.show()"
   ]
  },
  {
   "cell_type": "code",
   "execution_count": 47,
   "metadata": {
    "scrolled": true
   },
   "outputs": [],
   "source": [
    "x2=kb5[['날짜','마케팅업종중분류명', '마케팅업종세분류명','성별구분','회원수', '매출건수', '인당_매출건수','카드보유형태']]\n",
    "y2=kb5['연령대']"
   ]
  },
  {
   "cell_type": "code",
   "execution_count": 48,
   "metadata": {},
   "outputs": [],
   "source": [
    "x_train2,x_test2,y_train2,y_test2=train_test_split(x2,y2,test_size=0.2,random_state=1,stratify=y2)\n"
   ]
  },
  {
   "cell_type": "code",
   "execution_count": 49,
   "metadata": {},
   "outputs": [
    {
     "data": {
      "text/plain": [
       "RandomForestClassifier(n_estimators=200, random_state=1)"
      ]
     },
     "execution_count": 49,
     "metadata": {},
     "output_type": "execute_result"
    }
   ],
   "source": [
    "model.fit(x_train2,y_train2)"
   ]
  },
  {
   "cell_type": "code",
   "execution_count": 50,
   "metadata": {
    "scrolled": true
   },
   "outputs": [
    {
     "name": "stdout",
     "output_type": "stream",
     "text": [
      "훈련 세트 정확도 : 0.894\n",
      "테스트 세트 정확도:0.616\n"
     ]
    }
   ],
   "source": [
    "print('훈련 세트 정확도 : {:.3f}'.format(model.score(x_train2,y_train2)))\n",
    "print('테스트 세트 정확도:{:.3f}'.format(model.score(x_test2,y_test2)))"
   ]
  },
  {
   "cell_type": "code",
   "execution_count": 51,
   "metadata": {},
   "outputs": [
    {
     "data": {
      "text/plain": [
       "DecisionTreeClassifier()"
      ]
     },
     "execution_count": 51,
     "metadata": {},
     "output_type": "execute_result"
    }
   ],
   "source": [
    "from sklearn.tree import DecisionTreeClassifier\n",
    "\n",
    "model2=DecisionTreeClassifier()\n",
    "\n",
    "model2.fit(x_train2,y_train2)"
   ]
  },
  {
   "cell_type": "code",
   "execution_count": 52,
   "metadata": {},
   "outputs": [
    {
     "name": "stdout",
     "output_type": "stream",
     "text": [
      "훈련 세트 정확도 : 0.894\n",
      "테스트 세트 정확도:0.586\n"
     ]
    }
   ],
   "source": [
    "print('훈련 세트 정확도 : {:.3f}'.format(model2.score(x_train2,y_train2)))\n",
    "print('테스트 세트 정확도:{:.3f}'.format(model2.score(x_test2,y_test2)))"
   ]
  },
  {
   "cell_type": "code",
   "execution_count": 53,
   "metadata": {
    "scrolled": true
   },
   "outputs": [],
   "source": [
    "kb6=kb5.copy()\n",
    "kb6.날짜=kb6.날짜.astype(str)\n",
    "kb6\n",
    "kb6=kb6[['날짜', '마케팅업종중분류명', '마케팅업종세분류명','성별구분','회원수','매출건수', '인당_매출건수', '카드보유형태','연령대']]"
   ]
  },
  {
   "cell_type": "code",
   "execution_count": 55,
   "metadata": {},
   "outputs": [],
   "source": [
    "\n",
    "x3=kb6.iloc[:,:-1]\n",
    "y3=kb6.iloc[:,-1].to_numpy()\n",
    "\n",
    "x3=pd.get_dummies(x3)\n"
   ]
  },
  {
   "cell_type": "code",
   "execution_count": 56,
   "metadata": {},
   "outputs": [],
   "source": [
    "from sklearn.preprocessing import MinMaxScaler\n",
    "\n",
    "scaler=MinMaxScaler()\n",
    "\n",
    "x3=scaler.fit_transform(x3)"
   ]
  },
  {
   "cell_type": "code",
   "execution_count": 57,
   "metadata": {},
   "outputs": [],
   "source": [
    "x_train3,x_test3,y_train3,y_test3 =train_test_split(x3,y3,test_size=0.2,random_state=1,stratify=y3)"
   ]
  },
  {
   "cell_type": "code",
   "execution_count": 58,
   "metadata": {},
   "outputs": [],
   "source": [
    "from sklearn.linear_model import LogisticRegression\n",
    "\n",
    "model3=LogisticRegression()\n",
    "\n",
    "logreg=model3.fit(x_train3,y_train3)"
   ]
  },
  {
   "cell_type": "code",
   "execution_count": 59,
   "metadata": {
    "scrolled": true
   },
   "outputs": [],
   "source": [
    "\n",
    "train_result=model3.predict(x_train3)\n",
    "test_result=model3.predict(x_test3)"
   ]
  },
  {
   "cell_type": "code",
   "execution_count": 60,
   "metadata": {},
   "outputs": [
    {
     "name": "stdout",
     "output_type": "stream",
     "text": [
      "0.5549551455246483\n",
      "0.551440329218107\n"
     ]
    }
   ],
   "source": [
    "from sklearn.metrics import accuracy_score\n",
    "\n",
    "print(accuracy_score(y_train3,train_result))\n",
    "print(accuracy_score(y_test3,test_result))"
   ]
  },
  {
   "cell_type": "code",
   "execution_count": 63,
   "metadata": {},
   "outputs": [],
   "source": [
    "kb6=kb5.copy()"
   ]
  },
  {
   "cell_type": "code",
   "execution_count": 67,
   "metadata": {
    "scrolled": true
   },
   "outputs": [],
   "source": [
    "bcov=kb6.loc[kb6.날짜.between(0,3),]\n",
    "acov=kb6.loc[kb6.날짜.between(4,7),]"
   ]
  },
  {
   "cell_type": "code",
   "execution_count": 76,
   "metadata": {
    "scrolled": false
   },
   "outputs": [],
   "source": [
    "bcov.columns\n",
    "\n",
    "bcov2=bcov[['날짜', '마케팅업종중분류명', '마케팅업종세분류명', '성별구분', '회원수', '매출건수', '인당_매출건수','카드보유형태','연령대']]\n",
    "\n",
    "x4=bcov2.iloc[:,:-1]\n",
    "y4=bcov2.iloc[:,-1].to_numpy()\n",
    "\n"
   ]
  },
  {
   "cell_type": "code",
   "execution_count": 77,
   "metadata": {},
   "outputs": [],
   "source": [
    "x_train4,x_test4,y_train4,y_test4=train_test_split(x4,y4,test_size=0.2,random_state=1,stratify=y4)"
   ]
  },
  {
   "cell_type": "code",
   "execution_count": 78,
   "metadata": {},
   "outputs": [
    {
     "data": {
      "text/plain": [
       "RandomForestClassifier()"
      ]
     },
     "execution_count": 78,
     "metadata": {},
     "output_type": "execute_result"
    }
   ],
   "source": [
    "model4=RandomForestClassifier()\n",
    "\n",
    "model4.fit(x_train4,y_train4)"
   ]
  },
  {
   "cell_type": "code",
   "execution_count": 81,
   "metadata": {},
   "outputs": [],
   "source": [
    "train4_result=model4.predict(x_train4)\n",
    "test4_result=model4.predict(x_test4)"
   ]
  },
  {
   "cell_type": "code",
   "execution_count": 82,
   "metadata": {},
   "outputs": [
    {
     "name": "stdout",
     "output_type": "stream",
     "text": [
      "0.8978869627654118\n",
      "0.6181619256017505\n"
     ]
    }
   ],
   "source": [
    "print(accuracy_score(y_train4,train4_result))\n",
    "print(accuracy_score(y_test4,test4_result))"
   ]
  },
  {
   "cell_type": "code",
   "execution_count": 84,
   "metadata": {},
   "outputs": [],
   "source": [
    "acov.columns\n",
    "\n",
    "acov2=bcov[['날짜', '마케팅업종중분류명', '마케팅업종세분류명', '성별구분', '회원수', '매출건수', '인당_매출건수','카드보유형태','연령대']]\n",
    "\n",
    "x5=acov2.iloc[:,:-1]\n",
    "y5=acov2.iloc[:,-1].to_numpy()"
   ]
  },
  {
   "cell_type": "code",
   "execution_count": 85,
   "metadata": {},
   "outputs": [],
   "source": [
    "x_train5,x_test5,y_train5,y_test5=train_test_split(x5,y5,test_size=0.2,random_state=1,stratify=y5)"
   ]
  },
  {
   "cell_type": "code",
   "execution_count": 86,
   "metadata": {},
   "outputs": [
    {
     "data": {
      "text/plain": [
       "RandomForestClassifier()"
      ]
     },
     "execution_count": 86,
     "metadata": {},
     "output_type": "execute_result"
    }
   ],
   "source": [
    "model5=RandomForestClassifier()\n",
    "\n",
    "model5.fit(x_train5,y_train5)"
   ]
  },
  {
   "cell_type": "code",
   "execution_count": 87,
   "metadata": {},
   "outputs": [],
   "source": [
    "train5_result=model5.predict(x_train5)\n",
    "test5_result=model5.predict(x_test5)"
   ]
  },
  {
   "cell_type": "code",
   "execution_count": 88,
   "metadata": {},
   "outputs": [
    {
     "name": "stdout",
     "output_type": "stream",
     "text": [
      "0.8978527712243991\n",
      "0.6143326039387309\n"
     ]
    }
   ],
   "source": [
    "print(accuracy_score(y_train5,train5_result))\n",
    "print(accuracy_score(y_test5,test5_result))"
   ]
  }
 ],
 "metadata": {
  "kernelspec": {
   "display_name": "Python 3",
   "language": "python",
   "name": "python3"
  },
  "language_info": {
   "codemirror_mode": {
    "name": "ipython",
    "version": 3
   },
   "file_extension": ".py",
   "mimetype": "text/x-python",
   "name": "python",
   "nbconvert_exporter": "python",
   "pygments_lexer": "ipython3",
   "version": "3.8.5"
  }
 },
 "nbformat": 4,
 "nbformat_minor": 4
}
